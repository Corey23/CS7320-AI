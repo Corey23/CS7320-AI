{
 "cells": [
  {
   "cell_type": "markdown",
   "metadata": {},
   "source": [
    "# Adversarial Search: Playing Connect 4\n",
    "\n",
    "\n",
    "## Instructions\n",
    "\n",
    "Total Points: Undegraduates 100, graduate students 110\n",
    "\n",
    "Complete this notebook and submit it. The notebook needs to be a complete project report with your implementation, documentation including a short discussion of how your implementation works and your design choices, and experimental results (e.g., tables and charts with simulation results) with a short discussion of what they mean. Use the provided notebook cells and insert additional code and markdown cells as needed.\n",
    "\n",
    "## Introduction\n",
    "\n",
    "You will implement different versions of agents that play Connect 4:\n",
    "\n",
    "> \"Connect 4 is a two-player connection board game, in which the players choose a color and then take turns dropping colored discs into a seven-column, six-row vertically suspended grid. The pieces fall straight down, occupying the lowest available space within the column. The objective of the game is to be the first to form a horizontal, vertical, or diagonal line of four of one's own discs.\" (see [Connect Four on Wikipedia](https://en.wikipedia.org/wiki/Connect_Four))\n",
    "\n",
    "Note that [Connect-4 has been solved](https://en.wikipedia.org/wiki/Connect_Four#Mathematical_solution)\n",
    "in 1988. A connect-4 solver with a discussion of how to solve different parts of the problem can be found here: https://connect4.gamesolver.org/en/"
   ]
  },
  {
   "cell_type": "markdown",
   "metadata": {},
   "source": [
    "## Task 1: Defining the Search Problem [10 point]\n",
    "\n",
    "Define the components of the search problem:\n",
    "\n",
    "* Initial state\n",
    "* Actions\n",
    "* Transition model (result function)\n",
    "* Goal state (terminal state and utility)"
   ]
  },
  {
   "cell_type": "markdown",
   "metadata": {},
   "source": [
    "* Initial State: An empty 6x7 board\n",
    "* Actions: Placing a disk in a spot on the grid that is empty and is either on the bottom row or has another piece below it\n",
    "* Transition Model: Action replaces an empty spot on the grid, then the following action would replace another empty spot\n",
    "* Goal State:\n",
    "    * Terminal: The terminal state test is when there is either four disks of the same color adjacent to one another either vertically, horizaontally, or diagonally or when there are no more actions that can be taken indicating a draw.\n",
    "    * Utility: Determine if the player wins the game or loses the game."
   ]
  },
  {
   "cell_type": "markdown",
   "metadata": {},
   "source": [
    "How big is the state space? Give an estimate and explain it."
   ]
  },
  {
   "cell_type": "markdown",
   "metadata": {},
   "source": [
    "The state space is $42^3$ because there are 3 possible states for each position on the 6 by 7 grid. This is not true because this implies each column ccan have a disk on any row even when there is not a disk located below it. The actual state space is likely much lower than the estimate. When searching for the state space, google gave the answer to be approximately $4.5*1012$."
   ]
  },
  {
   "cell_type": "markdown",
   "metadata": {},
   "source": [
    "How big is the game tree that minimax search will go through? Give an estimate and explain it."
   ]
  },
  {
   "cell_type": "markdown",
   "metadata": {},
   "source": [
    "The game tree search will be approximately 21 on a log base 10 scale. This is the branching factor raised to the number of turns taken."
   ]
  },
  {
   "cell_type": "markdown",
   "metadata": {},
   "source": [
    "## Task 2: Game Environment and Random Agent [25 point]\n",
    "\n",
    "Use a numpy character array as the board."
   ]
  },
  {
   "cell_type": "code",
   "execution_count": 2,
   "metadata": {},
   "outputs": [
    {
     "name": "stdout",
     "output_type": "stream",
     "text": [
      "[[0 0 0 0 0 0 0]\n",
      " [0 0 0 0 0 0 0]\n",
      " [0 0 0 0 0 0 0]\n",
      " [0 0 0 0 0 0 0]\n",
      " [0 0 0 0 0 0 0]\n",
      " [0 0 0 0 0 0 0]]\n"
     ]
    }
   ],
   "source": [
    "import numpy as np\n",
    "\n",
    "def empty_board(shape=(6, 7)):\n",
    "    return np.full(shape=shape, fill_value=0)\n",
    "\n",
    "print(empty_board())"
   ]
  },
  {
   "cell_type": "markdown",
   "metadata": {},
   "source": [
    "The standard board is $6 \\times 7$ but you can use smaller boards to test your code. Instead of colors (red and yellow), I use 1 and -1 to represent the players. Make sure that your agent functions all have the from: `agent_type(board, player = 1)`, where board is the current board position (in the format above) and player is the player whose next move it is and who the agent should play (as 1 and -1)."
   ]
  },
  {
   "cell_type": "code",
   "execution_count": 3,
   "metadata": {
    "tags": []
   },
   "outputs": [
    {
     "data": {
      "image/png": "[encoded data removed]",
      "text/plain": [
       "<Figure size 432x288 with 1 Axes>"
      ]
     },
     "metadata": {
      "needs_background": "light"
     },
     "output_type": "display_data"
    }
   ],
   "source": [
    "# Visualization code by Randolph Rankin\n",
    "\n",
    "import matplotlib.pyplot as plt\n",
    "\n",
    "def visualize(board):\n",
    "    plt.axes()\n",
    "    rectangle=plt.Rectangle((-0.5,len(board)*-1+0.5),len(board[0]),len(board),fc='blue')\n",
    "    circles=[]\n",
    "    for i,row in enumerate(board):\n",
    "        for j,val in enumerate(row):\n",
    "            color='white' if val==0 else 'red' if val==1 else 'yellow'\n",
    "            circles.append(plt.Circle((j,i*-1),0.4,fc=color))\n",
    "\n",
    "    plt.gca().add_patch(rectangle)\n",
    "    for circle in circles:\n",
    "        plt.gca().add_patch(circle)\n",
    "\n",
    "    plt.axis('scaled')\n",
    "    plt.show()\n",
    "    \n",
    "board = [[0, 0, 0, 0, 0, 0, 0],\n",
    "         [0, 0, 0, 0, 0, 0, 0],\n",
    "         [0, 0, 0, 0, 0, 0, 0],\n",
    "         [0, 0, 0, 1, 0, 0, 0],\n",
    "         [0, 0, 0, 1, 0, 0, 0],\n",
    "         [0,-1,-1, 1,-1, 0, 0]]\n",
    "visualize(board)"
   ]
  },
  {
   "cell_type": "markdown",
   "metadata": {
    "tags": []
   },
   "source": [
    "Implement helper functions for:\n",
    "\n",
    "* A check for available actions in each state `actions(s)`.\n",
    "* The transition model `result(s, a)`.\n",
    "* Check for terminal states `terminal(s)`.\n",
    "* The utility function `utility(s)`.\n",
    "\n",
    "Make sure that all these functions work with boards of different sizes (number of columns and rows)."
   ]
  },
  {
   "cell_type": "code",
   "execution_count": 11,
   "metadata": {},
   "outputs": [],
   "source": [
    "def actions(board):\n",
    "    options = []\n",
    "    for col in range(len(board[0])):\n",
    "        if board[0][col] == 0:\n",
    "            options.append(col)\n",
    "    return options\n",
    "\n",
    "def result(board, actions, player=1):\n",
    "    b = board.copy()\n",
    "    i = actions\n",
    "    if board[0][i] != 0:\n",
    "        return False\n",
    "    \n",
    "    nextRow = len(board) -1 \n",
    "    for row in range(len(board)):\n",
    "        if b[row][i] != 0:\n",
    "            nextRow = row -1\n",
    "            break\n",
    "                \n",
    "    b[nextRow][i] = player\n",
    "    \n",
    "    return b\n",
    "def get_series(board):\n",
    "    connects = []\n",
    "    \n",
    "    for row in range(len(board)):\n",
    "        connects.append(board[row])\n",
    "        \n",
    "    for col in range(len(board)):\n",
    "        connects.append(board[:,col])\n",
    "        \n",
    "    for offset in range(1-len(board),len(board[0])):\n",
    "        connects.append(np.diagonal(board, offset=offset))\n",
    "        connects.append(np.diagonal(np.fliplr(board), offset=offset))\n",
    "        \n",
    "    max_rc = max(len(board),len(board[0]))\n",
    "    return connects\n",
    "\n",
    "def is_winner(series):\n",
    "    count = 0\n",
    "    prev = 0\n",
    "    for current in series:\n",
    "        if current != 0 and current == prev:\n",
    "            count += 1\n",
    "        elif current != 0 and current != prev:\n",
    "            count = 1\n",
    "            prev = current\n",
    "        elif current == 0:\n",
    "            prev = 0\n",
    "            count = 0\n",
    "            \n",
    "        if count == 4:\n",
    "            return prev\n",
    "    \n",
    "def terminal(board):\n",
    "    if len(actions(board)) == 0:\n",
    "        return \"draw\"\n",
    "    \n",
    "    series = get_series(board)\n",
    "    for s in series:\n",
    "        winner = is_winner(s)\n",
    "        if winner is not None:\n",
    "            return winner\n",
    "    \n",
    "    return \"continue\"\n",
    "\n",
    "def switch(player):\n",
    "    if player == 1:\n",
    "        return -1\n",
    "    else:\n",
    "        return 1\n",
    "    \n",
    "def utility(board, player = 1):\n",
    "    winner = terminal(board)\n",
    "    if winner == player:\n",
    "        return +1\n",
    "    if winner == switch(player):\n",
    "        return -1\n",
    "    if winner == \"draw\":\n",
    "        return 0\n",
    "    return None\n",
    "\n",
    "def connect4(player1, player2, starting = 1,  turns = 30, n = 6, m = 7):\n",
    "    board = empty_board(shape=(n,m))\n",
    "    i = 0\n",
    "    while terminal(board) == \"continue\" and i < turns:\n",
    "        i += 1\n",
    "        ms = actions(board)\n",
    "        m = player1(board,ms)\n",
    "        board = result(board=board, actions=m, player=starting)\n",
    "        \n",
    "        if terminal(board) != \"continue\":\n",
    "            winner = utility(board,starting)\n",
    "            return board\n",
    "        \n",
    "        starting = switch(starting)\n",
    "        \n",
    "        ms = actions(board)\n",
    "        m = player2(board,ms)\n",
    "        board = result(board=board, actions=m, player=starting)\n",
    "        \n",
    "        if terminal(board) != \"continue\":\n",
    "            winner = utility(board, starting)\n",
    "            return board\n",
    "    return board    "
   ]
  },
  {
   "cell_type": "markdown",
   "metadata": {},
   "source": [
    "Implement an agent that plays randomly. Make sure the agent function receives as the percept the board and returns a valid action. Use an agent function definition with the following signature (arguments):\n",
    "\n",
    "`def random_player(board, player = 1): ...`\n",
    "\n",
    "The argument `player` is used for agents that do not store what color they are playing. The value passed on by the environment should be 1 ot -1 for player red and yellow, respectively.  See [Experiments section for tic-tac-toe](https://nbviewer.org/github/mhahsler/CS7320-AI/blob/master/Games/tictactoe_and_or_tree_search.ipynb#Experiments) for an example."
   ]
  },
  {
   "cell_type": "code",
   "execution_count": 12,
   "metadata": {},
   "outputs": [],
   "source": [
    "import random\n",
    "def random_player(board, player = None):\n",
    "    options = actions(board)\n",
    "    \n",
    "    if len(options) == 0:\n",
    "        return None\n",
    "    return random.choice(options)"
   ]
  },
  {
   "cell_type": "code",
   "execution_count": 13,
   "metadata": {},
   "outputs": [
    {
     "data": {
      "text/plain": [
       "7"
      ]
     },
     "execution_count": 13,
     "metadata": {},
     "output_type": "execute_result"
    }
   ],
   "source": [
    "board = empty_board(shape=(6,7))\n",
    "len(board[0])"
   ]
  },
  {
   "cell_type": "code",
   "execution_count": 14,
   "metadata": {},
   "outputs": [
    {
     "data": {
      "image/png": "[encoded data removed]",
      "text/plain": [
       "<Figure size 432x288 with 1 Axes>"
      ]
     },
     "metadata": {
      "needs_background": "light"
     },
     "output_type": "display_data"
    }
   ],
   "source": [
    "board=connect4(random_player,random_player, starting =1)\n",
    "visualize(board)"
   ]
  },
  {
   "cell_type": "code",
   "execution_count": 9,
   "metadata": {},
   "outputs": [
    {
     "name": "stdout",
     "output_type": "stream",
     "text": [
      " Red Utility:  -1\n",
      "Yellow Utility:  1\n"
     ]
    }
   ],
   "source": [
    "print(\" Red Utility: \", utility(board, player=1))\n",
    "print(\"Yellow Utility: \", utility(board, player=-1))"
   ]
  },
  {
   "cell_type": "markdown",
   "metadata": {},
   "source": [
    "Let two random agents play against each other 1000 times. Look at the [Experiments section for tic-tac-toe](https://nbviewer.org/github/mhahsler/CS7320-AI/blob/master/Games/tictactoe_and_or_tree_search.ipynb#Experiments) to see how the environment uses the agent functions to play against each other.\n",
    "\n",
    "How often does each player win? Is the result expected?"
   ]
  },
  {
   "cell_type": "code",
   "execution_count": 8,
   "metadata": {
    "tags": []
   },
   "outputs": [
    {
     "name": "stdout",
     "output_type": "stream",
     "text": [
      "Player 1:  492\n",
      "Player 2:  480\n",
      "Draw:  28\n"
     ]
    }
   ],
   "source": [
    "p1Wins = 0\n",
    "p2Wins = 0\n",
    "draws = 0\n",
    "games = []\n",
    "\n",
    "for i in range (1000):\n",
    "    board = connect4(random_player,random_player,starting=1)\n",
    "    winner = terminal(board)\n",
    "    if winner == 1:\n",
    "        p1Wins = p1Wins+1\n",
    "    elif winner == -1:\n",
    "        p2Wins = p2Wins+1\n",
    "    else:\n",
    "        draws = draws+1\n",
    "    games.append(board)\n",
    "print('Player 1: ', p1Wins)\n",
    "print('Player 2: ', p2Wins)\n",
    "print('Draw: ', draws)"
   ]
  },
  {
   "cell_type": "markdown",
   "metadata": {},
   "source": [
    "The result of the tests was expected as the number of wins for each player is relatively the same with draws being a rarity. With random agents, the odds being similar to a coin-flip are expected."
   ]
  },
  {
   "cell_type": "markdown",
   "metadata": {},
   "source": [
    "## Task 3: Minimax Search with Alpha-Beta Pruning\n",
    "\n",
    "### Implement the Search [20 points] \n",
    "\n",
    "Implement minimax search starting from a given board for specifying the player.\n",
    "You can use code from the [tic-tac-toe example](https://nbviewer.org/github/mhahsler/CS7320-AI/blob/master/Games/tictactoe_alpha_beta_tree_search.ipynb).\n",
    "\n",
    "__Important Notes:__ \n",
    "* Make sure that all your agent functions have a signature consistent with the random agent above and that it [uses a class to store state information.](https://nbviewer.org/github/mhahsler/CS7320-AI/blob/master/Python_Code_Examples/store_agent_state_information.ipynb)\n",
    "This is essential to be able play against agents from other students later.\n",
    "* The search space for a $6 \\times 7$ board is large. You can experiment with smaller boards (the smallest is $4 \\times 4$) and/or changing the winning rule to connect 3 instead of 4."
   ]
  },
  {
   "cell_type": "code",
   "execution_count": 15,
   "metadata": {},
   "outputs": [],
   "source": [
    "import math\n",
    "DEBUG = 0 #set to have debug messages\n",
    "COUNT = 0\n",
    "\n",
    "\n",
    "def randomize(board):\n",
    "    options = actions(board)\n",
    "    random.shuffle(options)\n",
    "    return options\n",
    "\n",
    "def alpha_beta_search(board, player=1, actions = randomize):\n",
    "    global DEBUG, COUNT\n",
    "    COUNT = 0\n",
    "    value, move = max_value_ab(board, player, -math.inf, +math.inf, actions=actions)\n",
    "    \n",
    "    if DEBUG >= 0: \n",
    "        print(\"Number of nodes searched: \", COUNT)\n",
    "    return value, move\n",
    "\n",
    "def max_value_ab(board, player, alpha, beta, actions=actions):\n",
    "    #Best players move\n",
    "    v = utility(board,player)\n",
    "    global DEBUG, COUNT\n",
    "    COUNT += 1\n",
    "    if DEBUG == 1: \n",
    "        print(\"max: \\n\" + str(board) + str([alpha, beta, v]))\n",
    "        \n",
    "    if v is not None: \n",
    "        return v, None\n",
    "    \n",
    "    v, move = -math.inf, None\n",
    "    \n",
    "    moves = actions(board)\n",
    "    for a in moves:\n",
    "        v2, a2 = min_value_ab(result(board, a, player), player, alpha, beta, actions=actions)\n",
    "        if v2 > v:\n",
    "            v, move = v2, a\n",
    "            alpha = max(alpha, v)\n",
    "        if v >= beta:\n",
    "            return v, move\n",
    "    return v, move\n",
    "\n",
    "def min_value_ab(board, player, alpha, beta, actions = actions):\n",
    "    #Opponent best move\n",
    "    global DEBUG, COUNT\n",
    "    COUNT += 1\n",
    "    \n",
    "    v = utility(board, player)\n",
    "    if DEBUG == 1: print(\"min: \\n\" + str(board) + str([alpha, beta, v]))\n",
    "    if v is not None: \n",
    "        return v, None\n",
    "    \n",
    "    v, move = +math.inf, None\n",
    "    \n",
    "    moves = actions(board)\n",
    "    for a in moves:\n",
    "        v2, a2 = max_value_ab(result(board, a, switch(player)), player, alpha, beta, actions = actions)\n",
    "        if v2 < v: \n",
    "            v, move = v2, a\n",
    "            beta = min(beta,v)\n",
    "        if v <= alpha:\n",
    "            return v, move\n",
    "        \n",
    "    return v, move\n",
    "\n"
   ]
  },
  {
   "cell_type": "markdown",
   "metadata": {},
   "source": [
    "Experiment with some manually created boards (at least 5) to check if the agent spots winning opportunities."
   ]
  },
  {
   "cell_type": "code",
   "execution_count": 16,
   "metadata": {},
   "outputs": [
    {
     "data": {
      "image/png": "[encoded data removed]",
      "text/plain": [
       "<Figure size 432x288 with 1 Axes>"
      ]
     },
     "metadata": {
      "needs_background": "light"
     },
     "output_type": "display_data"
    },
    {
     "name": "stdout",
     "output_type": "stream",
     "text": [
      "Number of nodes searched:  155\n",
      "Wall time: 41.7 ms\n"
     ]
    },
    {
     "data": {
      "text/plain": [
       "(1, 0)"
      ]
     },
     "execution_count": 16,
     "metadata": {},
     "output_type": "execute_result"
    }
   ],
   "source": [
    "board = connect4(random_player, random_player, turns = 2, n=4, m=4)\n",
    "board[2][0] = 1\n",
    "board[1][0] = 1\n",
    "board[3][0] = 1\n",
    "board[0][0] = 0\n",
    "visualize(board)\n",
    "%time alpha_beta_search(board, actions = actions, player = 1)"
   ]
  },
  {
   "cell_type": "markdown",
   "metadata": {},
   "source": [
    "How long does it take to make a move? Start with a smaller board with 4 columns and make the board larger by adding columns."
   ]
  },
  {
   "cell_type": "code",
   "execution_count": null,
   "metadata": {},
   "outputs": [],
   "source": [
    "# Your code/ answer goes here."
   ]
  },
  {
   "cell_type": "markdown",
   "metadata": {},
   "source": [
    "### Move ordering [5 points]\n",
    "\n",
    "Starting the search with better moves will increase the efficiency of alpha-beta pruning. Describe and implement a simple move ordering strategy. Make a table that shows how the ordering strategies influence the time it takes to make a move?"
   ]
  },
  {
   "cell_type": "markdown",
   "metadata": {},
   "source": [
    "The simplest strategy in connect4 is to start by placing pieces toward the center of the board first instead of the outer sides of the board."
   ]
  },
  {
   "cell_type": "code",
   "execution_count": null,
   "metadata": {},
   "outputs": [],
   "source": [
    "def center_first(board):\n",
    "    moves = actions(board)\n",
    "    cols = board.shape[1]\n",
    "    new_order = []\n",
    "    if board[0][cols//2] == 0:\n",
    "        new_order.append(cols)\n",
    "    for i in range(1, cols//2+1):\n",
    "        idx = (cols//2) + i\n",
    "        if idx < cols and board[0][idx] == 0:\n",
    "            new_order.append(idx)\n",
    "        idx = (num_cols//2) - i\n",
    "        if idx >= 0 and board[0][idx] == 0:\n",
    "            new_order.append(idx)\n",
    "    \n",
    "    new_moves = []\n",
    "    for x in new_order:\n",
    "        for v in moves:\n",
    "            if v == x:\n",
    "                new_moves.append(v)"
   ]
  },
  {
   "cell_type": "markdown",
   "metadata": {},
   "source": [
    "### The first few moves [5 points]\n",
    "\n",
    "Start with an empty board. This is the worst case scenario for minimax search since it needs solve all possible games that can be played (minus some pruning) before making the decision. What can you do? "
   ]
  },
  {
   "cell_type": "markdown",
   "metadata": {},
   "source": [
    "In order to reduce the runtime, we can limit the number of columns available for the search by only assesing the center 4 columns of the board since large boards increase the number of possible combinations of boards."
   ]
  },
  {
   "cell_type": "code",
   "execution_count": null,
   "metadata": {},
   "outputs": [],
   "source": [
    "# Your code/ answer goes here."
   ]
  },
  {
   "cell_type": "markdown",
   "metadata": {},
   "source": [
    "### Playtime [5 points]\n",
    "\n",
    "Let the Minimax Search agent play a random agent on a small board. Analyze wins, losses and draws."
   ]
  },
  {
   "cell_type": "code",
   "execution_count": null,
   "metadata": {},
   "outputs": [],
   "source": [
    "def minimax_agent(board, player = 1):\n",
    "    v,m = alpha_beta_search(board, player)\n",
    "    return m"
   ]
  },
  {
   "cell_type": "code",
   "execution_count": null,
   "metadata": {},
   "outputs": [],
   "source": [
    "def agent_center(board, player ='1') :\n",
    "    v, m = alpha_beta_search(board, player, actions = center_first)\n",
    "return m"
   ]
  },
  {
   "cell_type": "code",
   "execution_count": null,
   "metadata": {},
   "outputs": [],
   "source": [
    "def play(p1, p2, N = 100):\n",
    "\n",
    "    winning = {1: 0, -1: 0, 0: 0}\n",
    "    for i in range(N):\n",
    "        board = empty_board(shape=(4,4))\n",
    "        player, agent = 1, p1\n",
    "        while True:\n",
    "            a = agent(board, player)\n",
    "            board = results(board, a, player)\n",
    "            win = terminal(board)\n",
    "            if win != ' ':\n",
    "                winning[win] += 1\n",
    "                break\n",
    "            player, agent = switch_player(player), p2\n",
    "    return winning"
   ]
  },
  {
   "cell_type": "markdown",
   "metadata": {},
   "source": [
    "## Task 4: Heuristic Alpha-Beta Tree Search\n",
    "\n",
    "### Heuristic evaluation function [15 points]\n",
    "\n",
    "Define and implement a heuristic evaluation function."
   ]
  },
  {
   "cell_type": "code",
   "execution_count": null,
   "metadata": {},
   "outputs": [],
   "source": [
    "# Your code/ answer goes here."
   ]
  },
  {
   "cell_type": "markdown",
   "metadata": {},
   "source": [
    "### Cutting off search [10 points]\n",
    "\n",
    "Modify your Minimax Search with Alpha-Beta Pruning to cut off search at a specified depth and use the heuristic evaluation function. Experiment with different cutoff values."
   ]
  },
  {
   "cell_type": "code",
   "execution_count": null,
   "metadata": {},
   "outputs": [],
   "source": [
    "# Your code/ answer goes here."
   ]
  },
  {
   "cell_type": "markdown",
   "metadata": {},
   "source": [
    "Experiment with the same manually created boards as above to check if the agent spots wining opportunities."
   ]
  },
  {
   "cell_type": "code",
   "execution_count": null,
   "metadata": {},
   "outputs": [],
   "source": [
    "# Your code/ answer goes here."
   ]
  },
  {
   "cell_type": "markdown",
   "metadata": {},
   "source": [
    "How long does it take to make a move? Start with a smaller board with 4 columns and make the board larger by adding columns."
   ]
  },
  {
   "cell_type": "code",
   "execution_count": null,
   "metadata": {},
   "outputs": [],
   "source": [
    "# Your code/ answer goes here."
   ]
  },
  {
   "cell_type": "markdown",
   "metadata": {},
   "source": [
    "### Playtime [5 points]\n",
    "\n",
    "Let two heuristic search agents (different cutoff depth, different heuristic evaluation function) compete against each other on a reasonably sized board. Since there is no randomness, you only need to let them play once."
   ]
  },
  {
   "cell_type": "code",
   "execution_count": null,
   "metadata": {},
   "outputs": [],
   "source": [
    "# Your code/ answer goes here."
   ]
  },
  {
   "cell_type": "markdown",
   "metadata": {},
   "source": [
    "## Challenge task [+ 10 bonus point will be awarded separately]\n",
    "\n",
    "Find another student and let your best agent play against the other student's best player. We will set up a class tournament on Canvas. This tournament will continue after the submission deadline."
   ]
  },
  {
   "cell_type": "markdown",
   "metadata": {},
   "source": [
    "## Graduate student advanced task: Pure Monte Carlo Search and Best First Move [10 point]\n",
    "\n",
    "__Undergraduate students:__ This is a bonus task you can attempt if you like [+10 bonus point].\n",
    "\n",
    "### Pure Monte Carlo Search\n",
    "\n",
    "Implement Pure Monte Carlo Search and investigate how this search performs on the test boards that you have used above. "
   ]
  },
  {
   "cell_type": "code",
   "execution_count": null,
   "metadata": {},
   "outputs": [],
   "source": [
    "# Your code/ answer goes here."
   ]
  },
  {
   "cell_type": "markdown",
   "metadata": {},
   "source": [
    "### Best First Move\n",
    "\n",
    "Use Oure Monte Carlo Search to determine what the best first move is? Describe under what assumptions this is the \"best\" first move.  "
   ]
  },
  {
   "cell_type": "code",
   "execution_count": null,
   "metadata": {},
   "outputs": [],
   "source": [
    "# Your code/ answer goes here."
   ]
  }
 ],
 "metadata": {
  "kernelspec": {
   "display_name": "Python 3",
   "language": "python",
   "name": "python3"
  },
  "language_info": {
   "codemirror_mode": {
    "name": "ipython",
    "version": 3
   },
   "file_extension": ".py",
   "mimetype": "text/x-python",
   "name": "python",
   "nbconvert_exporter": "python",
   "pygments_lexer": "ipython3",
   "version": "3.8.8"
  }
 },
 "nbformat": 4,
 "nbformat_minor": 4
}
