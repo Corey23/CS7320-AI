{
 "cells": [
  {
   "cell_type": "markdown",
   "metadata": {},
   "source": [
    "# Solving the n-Queens Problem using Local Search\n",
    "\n",
    "## Instructions\n",
    "\n",
    "Total Points: Undergrads 100 / Graduate students 110\n",
    "\n",
    "Complete this notebook. Use the provided notebook cells and insert additional code and markdown cells as needed. Submit the completely rendered notebook as a PDF file. \n"
   ]
  },
  {
   "cell_type": "markdown",
   "metadata": {},
   "source": [
    "## The n-Queens Problem\n",
    "\n",
    "* __Goal:__ Find an arrangement of $n$ queens on a $n \\times n$ chess board so that no queen is on the same row, column or diagonal as any other queen.\n",
    "\n",
    "* __State space:__ An arrangement of the queens on the board. We restrict the state space to arrangements where there is only a single queen per column. We represent a state as an integer vector $\\mathbf{q} = \\{q_1, q_2, \\dots, q_n\\}$, each number representing the row positions of the queens from left to right. We will call a state a \"board.\"\n",
    "\n",
    "* __Objective function:__ The number of pairwise conflicts (i.e., two queens in the same row/column/diagonal).\n",
    "The optimization problem is to find the optimal arrangement $\\mathbf{q}^*$ of $n$ queens on the board can be written as:\n",
    "\n",
    "  > minimize: $\\mathrm{conflicts}(\\mathbf{q})$\n",
    "  >\n",
    "  > subject to: $\\mathbf{q} \\ \\text{contains only one queen per column}$\n",
    "\n",
    "  Note: the constraint (subject to) is enforced by the definition of the state space.\n",
    "\n",
    "* __Local improvement move:__ Move one queen to a different row in its column.\n",
    "\n",
    "* __Termination:__ For this problem there is always an arrangement $\\mathbf{q}^*$ with $\\mathrm{conflicts}(\\mathbf{q}^*) = 0$, however, the local improvement moves might end up in a local minimum. "
   ]
  },
  {
   "cell_type": "markdown",
   "metadata": {},
   "source": [
    "## Helper functions"
   ]
  },
  {
   "cell_type": "code",
   "execution_count": 1,
   "metadata": {},
   "outputs": [],
   "source": [
    "import numpy as np\n",
    "import matplotlib.pyplot as plt\n",
    "from matplotlib import colors\n",
    "\n",
    "np.random.seed(1234)\n",
    "\n",
    "\n",
    "def random_board(n):\n",
    "    \"\"\"Creates a random board of size n x n. Note that only a single queen is placed in each column!\"\"\"\n",
    "    \n",
    "    return(np.random.randint(0,n, size = n))\n",
    "\n",
    "def comb2(n): return n*(n-1)//2 # this is n choose 2 equivalent to math.comb(n, 2); // is int division\n",
    "\n",
    "def conflicts(board):\n",
    "    \"\"\"Caclulate the number of conflicts, i.e., the objective function.\"\"\"\n",
    "\n",
    "    n = len(board)\n",
    "    \n",
    "    horizontal_cnt = [0] * n\n",
    "    diagonal1_cnt = [0] * 2 * n\n",
    "    diagonal2_cnt = [0] * 2 * n\n",
    "    \n",
    "    for i in range(n):\n",
    "        horizontal_cnt[board[i]] += 1\n",
    "        diagonal1_cnt[i + board[i]] += 1\n",
    "        diagonal2_cnt[i - board[i] + n] += 1\n",
    "    \n",
    "    return sum(map(comb2, horizontal_cnt + diagonal1_cnt + diagonal2_cnt))\n",
    "\n",
    "\n",
    "def show_board(board, cols = ['white', 'gray'], fontsize = 48):  \n",
    "    \"\"\"display the board\"\"\"\n",
    "    \n",
    "    n = len(board)\n",
    "    \n",
    "    # create chess board display\n",
    "    display = np.zeros([n,n])\n",
    "    for i in range(n):\n",
    "        for j in range(n):\n",
    "            if (((i+j) % 2) != 0): \n",
    "                display[i,j] = 1\n",
    "    \n",
    "    cmap = colors.ListedColormap(cols)\n",
    "    fig, ax = plt.subplots()\n",
    "    ax.imshow(display, cmap = cmap, \n",
    "              norm = colors.BoundaryNorm(range(len(cols)+1), cmap.N))\n",
    "    ax.set_xticks([])\n",
    "    ax.set_yticks([])\n",
    "    \n",
    "    # place queens. Note: Unicode u265B is a black queen\n",
    "    for j in range(n):\n",
    "        plt.text(j, board[j], u\"\\u265B\", fontsize = fontsize, \n",
    "                 horizontalalignment = 'center',\n",
    "                 verticalalignment = 'center')\n",
    "    \n",
    "    print(f\"Board with {conflicts(board)} conflicts.\")\n",
    "    plt.show()"
   ]
  },
  {
   "cell_type": "markdown",
   "metadata": {},
   "source": [
    "## Create a board"
   ]
  },
  {
   "cell_type": "code",
   "execution_count": 2,
   "metadata": {},
   "outputs": [
    {
     "name": "stdout",
     "output_type": "stream",
     "text": [
      "Board with 4 conflicts.\n"
     ]
    },
    {
     "data": {
      "image/png": "[encoded data removed]",
      "text/plain": [
       "<Figure size 432x288 with 1 Axes>"
      ]
     },
     "metadata": {},
     "output_type": "display_data"
    },
    {
     "name": "stdout",
     "output_type": "stream",
     "text": [
      "Queens (left to right) are at rows: [3 3 2 1]\n",
      "Number of conflicts: 4\n"
     ]
    }
   ],
   "source": [
    "board = random_board(4)\n",
    "\n",
    "show_board(board)\n",
    "print(f\"Queens (left to right) are at rows: {board}\")\n",
    "print(f\"Number of conflicts: {conflicts(board)}\")"
   ]
  },
  {
   "cell_type": "markdown",
   "metadata": {},
   "source": [
    "A board $4 \\times 4$ with no conflicts:"
   ]
  },
  {
   "cell_type": "code",
   "execution_count": 3,
   "metadata": {},
   "outputs": [
    {
     "name": "stdout",
     "output_type": "stream",
     "text": [
      "Board with 0 conflicts.\n"
     ]
    },
    {
     "data": {
      "image/png": "[encoded data removed]",
      "text/plain": [
       "<Figure size 432x288 with 1 Axes>"
      ]
     },
     "metadata": {},
     "output_type": "display_data"
    }
   ],
   "source": [
    "board = [1,3,0,2]\n",
    "show_board(board)"
   ]
  },
  {
   "cell_type": "markdown",
   "metadata": {},
   "source": [
    "## Corey Ellis\n",
    "## CS7320"
   ]
  },
  {
   "cell_type": "markdown",
   "metadata": {},
   "source": [
    "# Tasks\n",
    "\n",
    "## General [10 Points]\n",
    "\n",
    "1. Make sure that you use the latest version of this notebook. Sync your forked repository and pull the latest revision. \n",
    "2. Your implementation can use libraries like math, numpy, scipy, but not libraries that implement inteligent agents or complete search algorithms. Try to keep the code simple! In this course, we want to learn about the algorithms and we often do not need to use object-oriented design.\n",
    "3. You notebook needs to be formated professionally. \n",
    "    - Add additional markdown blocks for your description, comments in the code, add tables and use mathplotlib to produce charts where appropriate\n",
    "    - Do not show debugging output or include an excessive amount of output.\n",
    "    - Check that your PDF file is readable. For example, long lines are cut off in the PDF file. You don't have control over page breaks, so do not worry about these.\n",
    "4. Document your code. Add a short discussion of how your implementation works and your design choices."
   ]
  },
  {
   "cell_type": "markdown",
   "metadata": {},
   "source": [
    "## Task 1: Steepest-ascend Hill Climbing Search [30 Points]\n",
    "\n",
    "Calculate the objective function for all local moves (see definition of local moves above) and always choose the best among all local moves. If there are no local moves that improve the objective, then you have reached a local optimum. "
   ]
  },
  {
   "cell_type": "markdown",
   "metadata": {},
   "source": [
    "### Task 1 Response\n",
    "\n",
    "In order to implement the steepest ascent hill climbing algorithm, I chose to first record the size of the board and the number of initial conflicts. To measure the number of conflicts after each move, I created a two dimensional array \"conflictValues\" that evaluates the number of conflicts when each queen moves along its current column. Afterwards, the minimum is found and if that is less than the current optimum number of conflicts, then we will commit to this move. This manuever gets the solution coordinates for the new state of the board and resets the optimum and the board with this setup. Once the number of conflicts reaches zero or there are no more moves that can minimize the objective function, the method ends and returns the optimal board found."
   ]
  },
  {
   "cell_type": "code",
   "execution_count": 67,
   "metadata": {},
   "outputs": [],
   "source": [
    "def Steepest_Ascent(board, verbose = False):\n",
    "    if verbose: \n",
    "        show_board(board)\n",
    "    \n",
    "    n = len(board)\n",
    "    optimum = conflicts(board)\n",
    "    conflictValues = np.full([n,n], -1, dtype = int) #set initial grid to -1\n",
    "    steps = 0\n",
    "    \n",
    "    while True:\n",
    "        if(optimum == 0): \n",
    "            if verbose: print(\"Steps: %d\" % (steps))\n",
    "            return board\n",
    "        for y in range(n):\n",
    "            queen = board[y] #get original queen location in column\n",
    "            for x in range(n):\n",
    "                board[y] = x\n",
    "                conflictValues[x,y] = conflicts(board)\n",
    "            board[y] = queen\n",
    "        curr_min = np.min(conflictValues)\n",
    "        \n",
    "        steps += 1\n",
    "        \n",
    "        if verbose:\n",
    "            print(f\"Conflicts Before: {optimum}\")\n",
    "            print(f\"Conflicts Now: {curr_min}\")\n",
    "                  \n",
    "        if(optimum > curr_min):\n",
    "            w = np.where(conflictValues == curr_min)\n",
    "            optimum = [a for a in zip(w[0], w[1])] #Create Tuples of solution coordinates\n",
    "            optimum = optimum[np.random.randint(0, len(optimum))]\n",
    "            board[optimum[1]] = optimum[0]\n",
    "            optimum = curr_min\n",
    "            if verbose:\n",
    "                  show_board(board)\n",
    "        else: \n",
    "            \n",
    "            if verbose: print(\"Steps: %d\" % (steps))\n",
    "            return board\n",
    "    \n",
    "    \n",
    "            "
   ]
  },
  {
   "cell_type": "code",
   "execution_count": 31,
   "metadata": {},
   "outputs": [
    {
     "name": "stdout",
     "output_type": "stream",
     "text": [
      "Board with 4 conflicts.\n"
     ]
    },
    {
     "data": {
      "image/png": "[encoded data removed]",
      "text/plain": [
       "<Figure size 432x288 with 1 Axes>"
      ]
     },
     "metadata": {},
     "output_type": "display_data"
    },
    {
     "name": "stdout",
     "output_type": "stream",
     "text": [
      "Conflicts Before: 4\n",
      "Conflicts Now: 3\n",
      "Board with 3 conflicts.\n"
     ]
    },
    {
     "data": {
      "image/png": "[encoded data removed]",
      "text/plain": [
       "<Figure size 432x288 with 1 Axes>"
      ]
     },
     "metadata": {},
     "output_type": "display_data"
    },
    {
     "name": "stdout",
     "output_type": "stream",
     "text": [
      "Conflicts Before: 3\n",
      "Conflicts Now: 1\n",
      "Board with 1 conflicts.\n"
     ]
    },
    {
     "data": {
      "image/png": "[encoded data removed]",
      "text/plain": [
       "<Figure size 432x288 with 1 Axes>"
      ]
     },
     "metadata": {},
     "output_type": "display_data"
    },
    {
     "name": "stdout",
     "output_type": "stream",
     "text": [
      "Conflicts Before: 1\n",
      "Conflicts Now: 1\n",
      "Steps: 3\n"
     ]
    }
   ],
   "source": [
    "b = random_board(6)\n",
    "board = Steepest_Ascent(b, verbose = True)"
   ]
  },
  {
   "cell_type": "markdown",
   "metadata": {},
   "source": [
    "## Task 2: Stochastic Hill Climbing 1 [10 Points]\n",
    "\n",
    "Chooses randomly from among all uphill moves till you have reached a local optimum."
   ]
  },
  {
   "cell_type": "markdown",
   "metadata": {},
   "source": [
    "### Task 2 Response\n",
    "\n",
    "The stochastic hill climbing method uses a similar skeleton as the steepest ascension algorithm. Here the conflicts of each move are once again measured, but instead of choosing the minimum direction, we choose a random direction to move that is still uphill. This random choice is the new optimum and the board now matches the characteristics of this new minimum. Similar to the previous method, the measurement ends when there are no more uphill moves available or the optimum is equal to 0."
   ]
  },
  {
   "cell_type": "code",
   "execution_count": 68,
   "metadata": {},
   "outputs": [],
   "source": [
    "def Stochastic_Climb(board, verbose = False):\n",
    "    if verbose: \n",
    "        show_board(board)\n",
    "    \n",
    "    n = len(board)\n",
    "    optimum = conflicts(board)\n",
    "    conflictValues = np.full([n,n], -1, dtype = int) #set initial grid to -1\n",
    "    steps = 0\n",
    "    \n",
    "    while True:\n",
    "        if(optimum == 0): \n",
    "            if verbose: print(\"Steps: %d\" % (steps))\n",
    "            return board\n",
    "        for y in range(n):\n",
    "            queen = board[y] #get original queen location in column\n",
    "            for x in range(n):\n",
    "                board[y] = x\n",
    "                conflictValues[x,y] = conflicts(board)\n",
    "            board[y] = queen\n",
    "            \n",
    "            \n",
    "        options = []\n",
    "        for i in range(n):\n",
    "            for j in range(n):\n",
    "                if conflictValues[i][j] < optimum:\n",
    "                    options.append(conflictValues[i][j])\n",
    "                    \n",
    "        \n",
    "        steps += 1\n",
    "        \n",
    "        if len(options) > 0:\n",
    "            curr_min = np.random.choice(options)\n",
    "            \n",
    "            if verbose:\n",
    "                print(f\"Conflicts Before: {optimum}\")\n",
    "                print(f\"Conflicts Now: {curr_min}\")\n",
    "            \n",
    "            if(optimum > curr_min):\n",
    "                w = np.where(conflictValues == curr_min)\n",
    "                optimum = [a for a in zip(w[0], w[1])] #Create Tuples of solution coordinates\n",
    "                optimum = optimum[np.random.randint(0, len(optimum))]\n",
    "                board[optimum[1]] = optimum[0]\n",
    "                optimum = curr_min\n",
    "                if verbose:\n",
    "                      show_board(board)\n",
    "            else: \n",
    "                if verbose: print(\"Steps: %d\" % (steps))\n",
    "                return board\n",
    "        else: \n",
    "            break\n",
    "    if verbose: print(\"Steps: %d\" % (steps))      \n",
    "    return board"
   ]
  },
  {
   "cell_type": "code",
   "execution_count": 54,
   "metadata": {},
   "outputs": [
    {
     "name": "stdout",
     "output_type": "stream",
     "text": [
      "Board with 5 conflicts.\n"
     ]
    },
    {
     "data": {
      "image/png": "[encoded data removed]",
      "text/plain": [
       "<Figure size 432x288 with 1 Axes>"
      ]
     },
     "metadata": {},
     "output_type": "display_data"
    },
    {
     "name": "stdout",
     "output_type": "stream",
     "text": [
      "Conflicts Before: 5\n",
      "Conflicts Now: 3\n",
      "Board with 3 conflicts.\n"
     ]
    },
    {
     "data": {
      "image/png": "[encoded data removed]",
      "text/plain": [
       "<Figure size 432x288 with 1 Axes>"
      ]
     },
     "metadata": {},
     "output_type": "display_data"
    },
    {
     "name": "stdout",
     "output_type": "stream",
     "text": [
      "Conflicts Before: 3\n",
      "Conflicts Now: 2\n",
      "Board with 2 conflicts.\n"
     ]
    },
    {
     "data": {
      "image/png": "[encoded data removed]",
      "text/plain": [
       "<Figure size 432x288 with 1 Axes>"
      ]
     },
     "metadata": {},
     "output_type": "display_data"
    },
    {
     "name": "stdout",
     "output_type": "stream",
     "text": [
      "Conflicts Before: 2\n",
      "Conflicts Now: 1\n",
      "Board with 1 conflicts.\n"
     ]
    },
    {
     "data": {
      "image/png": "[encoded data removed]",
      "text/plain": [
       "<Figure size 432x288 with 1 Axes>"
      ]
     },
     "metadata": {},
     "output_type": "display_data"
    },
    {
     "name": "stdout",
     "output_type": "stream",
     "text": [
      "Conflicts Before: 1\n",
      "Conflicts Now: 0\n",
      "Board with 0 conflicts.\n"
     ]
    },
    {
     "data": {
      "image/png": "[encoded data removed]",
      "text/plain": [
       "<Figure size 432x288 with 1 Axes>"
      ]
     },
     "metadata": {},
     "output_type": "display_data"
    },
    {
     "name": "stdout",
     "output_type": "stream",
     "text": [
      "Steps: 4\n"
     ]
    }
   ],
   "source": [
    "board = random_board(5)\n",
    "b = Stochastic_Climb(board, verbose = True)"
   ]
  },
  {
   "cell_type": "markdown",
   "metadata": {},
   "source": [
    "## Task 3: Stochastic Hill Climbing 2 [20 Points]\n",
    "\n",
    "A popular version of stochastic hill climbing generates only a single random local neighbor at a time and accept it if it has a better objective function value than the current state. This is very efficient if each state has many possible successor states. This method is called \"First-choice hill climbing\" in the textbook.\n",
    "\n",
    "__Notes:__ \n",
    "\n",
    "* Detecting local optima is tricky! You can, for example, stop if you were not able to improve the objective function during the last $x$ tries."
   ]
  },
  {
   "cell_type": "markdown",
   "metadata": {},
   "source": [
    "### Task 3 Response\n",
    "\n",
    "The first choice climb method is the same as the previous stochastic method but only calculates one possible moves conflict value. This new conflict measurement is compared to the current optimum and a move is made only if the new position features less conflicts. Since there is a possibility of the chosen direction being less than the optimum, there is a limit placed so that the algorithm doesn't get stuck picking downhill moves forever. "
   ]
  },
  {
   "cell_type": "code",
   "execution_count": 128,
   "metadata": {},
   "outputs": [],
   "source": [
    "def First_Choice_Climb(board, max_steps = 5000, verbose = False):\n",
    "    if verbose: \n",
    "        show_board(board)\n",
    "    \n",
    "    n = len(board)\n",
    "    optimum = conflicts(board)\n",
    "    conflictValues = np.full([n,n], -1, dtype = int) #set initial grid to -1\n",
    "    steps = 0\n",
    "    non_moves = 0 #count of moves that are not taken\n",
    "    limit = 50*n #number of non-moves allowed in a row\n",
    "    \n",
    "    while steps < max_steps:\n",
    "        if(optimum == 0): \n",
    "            if verbose: print(\"Steps: %d\" % (steps))\n",
    "            return board\n",
    "        \n",
    "        for y in range(n):\n",
    "            queen = board[y] #get original queen location in column\n",
    "            for x in range(n):\n",
    "                board[y] = x\n",
    "                conflictValues[x,y] = conflicts(board)\n",
    "            board[y] = queen\n",
    "            \n",
    "        a = np.random.randint(0,n)\n",
    "        b = np.random.randint(0,n)\n",
    "        curr_min = conflictValues[a][b]\n",
    "                    \n",
    "        steps += 1\n",
    "        \n",
    "            \n",
    "        if(optimum > curr_min):\n",
    "            if verbose:\n",
    "                print(f\"Conflicts Before: {optimum}\")\n",
    "                print(f\"Conflicts Now: {curr_min}\")\n",
    "            \n",
    "            non_moves = 0\n",
    "            w = np.where(conflictValues == curr_min)\n",
    "            optimum = [a for a in zip(w[0], w[1])] #Create Tuples of solution coordinates\n",
    "            optimum = optimum[np.random.randint(0, len(optimum))]\n",
    "            board[optimum[1]] = optimum[0]\n",
    "            optimum = curr_min\n",
    "            if verbose:\n",
    "                  show_board(board)\n",
    "        else:\n",
    "            non_moves = non_moves+1\n",
    "            if non_moves > limit: \n",
    "                break\n",
    "            \n",
    "    if(verbose):    \n",
    "        print(\"Steps: %d\" % (steps))      \n",
    "    return board"
   ]
  },
  {
   "cell_type": "code",
   "execution_count": 58,
   "metadata": {},
   "outputs": [
    {
     "name": "stdout",
     "output_type": "stream",
     "text": [
      "Board with 4 conflicts.\n"
     ]
    },
    {
     "data": {
      "image/png": "[encoded data removed]",
      "text/plain": [
       "<Figure size 432x288 with 1 Axes>"
      ]
     },
     "metadata": {},
     "output_type": "display_data"
    },
    {
     "name": "stdout",
     "output_type": "stream",
     "text": [
      "Conflicts Before: 4\n",
      "Conflicts Now: 3\n",
      "Board with 3 conflicts.\n"
     ]
    },
    {
     "data": {
      "image/png": "[encoded data removed]",
      "text/plain": [
       "<Figure size 432x288 with 1 Axes>"
      ]
     },
     "metadata": {},
     "output_type": "display_data"
    },
    {
     "name": "stdout",
     "output_type": "stream",
     "text": [
      "Conflicts Before: 3\n",
      "Conflicts Now: 2\n",
      "Board with 2 conflicts.\n"
     ]
    },
    {
     "data": {
      "image/png": "[encoded data removed]",
      "text/plain": [
       "<Figure size 432x288 with 1 Axes>"
      ]
     },
     "metadata": {},
     "output_type": "display_data"
    },
    {
     "name": "stdout",
     "output_type": "stream",
     "text": [
      "Conflicts Before: 2\n",
      "Conflicts Now: 1\n",
      "Board with 1 conflicts.\n"
     ]
    },
    {
     "data": {
      "image/png": "[encoded data removed]",
      "text/plain": [
       "<Figure size 432x288 with 1 Axes>"
      ]
     },
     "metadata": {},
     "output_type": "display_data"
    },
    {
     "name": "stdout",
     "output_type": "stream",
     "text": [
      "Steps: 538\n"
     ]
    }
   ],
   "source": [
    "board = random_board(5)\n",
    "b = First_Choice_Climb(board, verbose = True)"
   ]
  },
  {
   "cell_type": "markdown",
   "metadata": {},
   "source": [
    "## Task 4: Hill Climbing Search with Random Restarts [10 Points]\n",
    "\n",
    "Hill climbing will often end up in local optima. Restart the each of the three hill climbing algorithm up to 100 times with a random board to find a better (hopefully optimal) solution. Note that restart just means to run the algoithm several times starting with a new random board."
   ]
  },
  {
   "cell_type": "markdown",
   "metadata": {},
   "source": [
    "### Task 4 Response\n",
    "\n",
    "The random restart algorithm takes in a particular algorithm and the size of the chess board being used. This function will then attempt to solve the given problem for the indicated number of times given by the parameter \"iterations. The optimal solution from the solutions found is stored and is returned after all iterations are complete or the zero conflict board is found."
   ]
  },
  {
   "cell_type": "code",
   "execution_count": 135,
   "metadata": {},
   "outputs": [],
   "source": [
    "def random_restart(method, n, iterations = 100, verbose = False):\n",
    "    optimum_Board = random_board(n)\n",
    "    optimum_Conflicts = conflicts(optimum_Board)\n",
    "    \n",
    "    for i in range(iterations):\n",
    "        curr_board = random_board(n)\n",
    "        sol_board = method(curr_board, verbose = False)\n",
    "        c = conflicts(sol_board)\n",
    "        \n",
    "        if(c < optimum_Conflicts):\n",
    "            optimum_Board = sol_board\n",
    "            optimum_Conflicts = c\n",
    "            \n",
    "        if(optimum_Conflicts == 0):\n",
    "            if verbose:\n",
    "                print(\"Iterations: %d\" % (i))\n",
    "            return optimum_Board\n",
    "    \n",
    "    if verbose: print(\"Iterations: %d\" % (i))\n",
    "    return optimum_Board"
   ]
  },
  {
   "cell_type": "code",
   "execution_count": 72,
   "metadata": {},
   "outputs": [
    {
     "name": "stdout",
     "output_type": "stream",
     "text": [
      "Steep Ascent\n",
      "Iterations: 1\n",
      "Stochastic Climb\n",
      "Iterations: 4\n",
      "First Choice Climb\n",
      "Iterations: 8\n"
     ]
    }
   ],
   "source": [
    "print(\"Steep Ascent\")\n",
    "bSteep = random_restart(Steepest_Ascent,6)\n",
    "print(\"Stochastic Climb\")\n",
    "bStoc = random_restart(Stochastic_Climb,6)\n",
    "print(\"First Choice Climb\")\n",
    "bFirst = random_restart(First_Choice_Climb,6)\n"
   ]
  },
  {
   "cell_type": "markdown",
   "metadata": {},
   "source": [
    "## Task 5: Compare Performance [20 Points]\n",
    "\n",
    "Use runtime and objective function value to compare the algorithms. \n",
    "\n",
    "* Use boards of different sizes to explore how the different algorithms perform. Make sure that you run the algorithms for each board size several times (at least 10 times) with different starting boards and report averages.\n",
    "\n",
    "* How do the algorithms scale with problem size? Use tables and charts.\n",
    "\n",
    "* What is the largest board each algorithm can solve in a reasonable amount time?\n",
    "\n",
    "See [Profiling Python Code](../Python_Code_Examples/profiling_code.ipynb) for help about how to measure runtime in Python."
   ]
  },
  {
   "cell_type": "code",
   "execution_count": 96,
   "metadata": {},
   "outputs": [],
   "source": [
    "import time\n",
    "import numpy as np\n",
    "import pandas as pd\n",
    "\n",
    "n = 100\n",
    "total = 0\n",
    "boards = [4,5,6,7,8,9,10,11,12,13,14]\n",
    "avgObj = []\n",
    "avgTimes = []\n",
    "\n",
    "for b in boards:\n",
    "    obj = []\n",
    "    times = []\n",
    "    for j in range(n):\n",
    "        randomB = random_board(b)\n",
    "        start = time.time()\n",
    "        solve = Steepest_Ascent(randomB)\n",
    "        stop = time.time()\n",
    "        obj.append(conflicts(solve))\n",
    "        times.append((stop-start)*1e3)\n",
    "   \n",
    "    avgObj.append(np.average(obj))\n",
    "    avgTimes.append(np.average(times)) \n",
    "    "
   ]
  },
  {
   "cell_type": "code",
   "execution_count": 119,
   "metadata": {},
   "outputs": [
    {
     "data": {
      "text/html": [
       "<div>\n",
       "<style scoped>\n",
       "    .dataframe tbody tr th:only-of-type {\n",
       "        vertical-align: middle;\n",
       "    }\n",
       "\n",
       "    .dataframe tbody tr th {\n",
       "        vertical-align: top;\n",
       "    }\n",
       "\n",
       "    .dataframe thead th {\n",
       "        text-align: right;\n",
       "    }\n",
       "</style>\n",
       "<table border=\"1\" class=\"dataframe\">\n",
       "  <thead>\n",
       "    <tr style=\"text-align: right;\">\n",
       "      <th></th>\n",
       "      <th>Board Size</th>\n",
       "      <th>Steepest Ascent</th>\n",
       "    </tr>\n",
       "  </thead>\n",
       "  <tbody>\n",
       "    <tr>\n",
       "      <th>0</th>\n",
       "      <td>4</td>\n",
       "      <td>0.729740</td>\n",
       "    </tr>\n",
       "    <tr>\n",
       "      <th>1</th>\n",
       "      <td>5</td>\n",
       "      <td>0.830665</td>\n",
       "    </tr>\n",
       "    <tr>\n",
       "      <th>2</th>\n",
       "      <td>6</td>\n",
       "      <td>1.779559</td>\n",
       "    </tr>\n",
       "    <tr>\n",
       "      <th>3</th>\n",
       "      <td>7</td>\n",
       "      <td>2.819104</td>\n",
       "    </tr>\n",
       "    <tr>\n",
       "      <th>4</th>\n",
       "      <td>8</td>\n",
       "      <td>5.310254</td>\n",
       "    </tr>\n",
       "    <tr>\n",
       "      <th>5</th>\n",
       "      <td>9</td>\n",
       "      <td>8.276548</td>\n",
       "    </tr>\n",
       "    <tr>\n",
       "      <th>6</th>\n",
       "      <td>10</td>\n",
       "      <td>10.055363</td>\n",
       "    </tr>\n",
       "    <tr>\n",
       "      <th>7</th>\n",
       "      <td>11</td>\n",
       "      <td>14.002213</td>\n",
       "    </tr>\n",
       "    <tr>\n",
       "      <th>8</th>\n",
       "      <td>12</td>\n",
       "      <td>19.234533</td>\n",
       "    </tr>\n",
       "    <tr>\n",
       "      <th>9</th>\n",
       "      <td>13</td>\n",
       "      <td>28.222857</td>\n",
       "    </tr>\n",
       "    <tr>\n",
       "      <th>10</th>\n",
       "      <td>14</td>\n",
       "      <td>36.407015</td>\n",
       "    </tr>\n",
       "  </tbody>\n",
       "</table>\n",
       "</div>"
      ],
      "text/plain": [
       "    Board Size  Steepest Ascent\n",
       "0            4         0.729740\n",
       "1            5         0.830665\n",
       "2            6         1.779559\n",
       "3            7         2.819104\n",
       "4            8         5.310254\n",
       "5            9         8.276548\n",
       "6           10        10.055363\n",
       "7           11        14.002213\n",
       "8           12        19.234533\n",
       "9           13        28.222857\n",
       "10          14        36.407015"
      ]
     },
     "metadata": {},
     "output_type": "display_data"
    },
    {
     "data": {
      "text/html": [
       "<div>\n",
       "<style scoped>\n",
       "    .dataframe tbody tr th:only-of-type {\n",
       "        vertical-align: middle;\n",
       "    }\n",
       "\n",
       "    .dataframe tbody tr th {\n",
       "        vertical-align: top;\n",
       "    }\n",
       "\n",
       "    .dataframe thead th {\n",
       "        text-align: right;\n",
       "    }\n",
       "</style>\n",
       "<table border=\"1\" class=\"dataframe\">\n",
       "  <thead>\n",
       "    <tr style=\"text-align: right;\">\n",
       "      <th></th>\n",
       "      <th>Board Size</th>\n",
       "      <th>Steepest Ascent</th>\n",
       "    </tr>\n",
       "  </thead>\n",
       "  <tbody>\n",
       "    <tr>\n",
       "      <th>0</th>\n",
       "      <td>4</td>\n",
       "      <td>0.67</td>\n",
       "    </tr>\n",
       "    <tr>\n",
       "      <th>1</th>\n",
       "      <td>5</td>\n",
       "      <td>0.41</td>\n",
       "    </tr>\n",
       "    <tr>\n",
       "      <th>2</th>\n",
       "      <td>6</td>\n",
       "      <td>1.19</td>\n",
       "    </tr>\n",
       "    <tr>\n",
       "      <th>3</th>\n",
       "      <td>7</td>\n",
       "      <td>1.05</td>\n",
       "    </tr>\n",
       "    <tr>\n",
       "      <th>4</th>\n",
       "      <td>8</td>\n",
       "      <td>1.17</td>\n",
       "    </tr>\n",
       "    <tr>\n",
       "      <th>5</th>\n",
       "      <td>9</td>\n",
       "      <td>1.42</td>\n",
       "    </tr>\n",
       "    <tr>\n",
       "      <th>6</th>\n",
       "      <td>10</td>\n",
       "      <td>1.67</td>\n",
       "    </tr>\n",
       "    <tr>\n",
       "      <th>7</th>\n",
       "      <td>11</td>\n",
       "      <td>1.71</td>\n",
       "    </tr>\n",
       "    <tr>\n",
       "      <th>8</th>\n",
       "      <td>12</td>\n",
       "      <td>1.86</td>\n",
       "    </tr>\n",
       "    <tr>\n",
       "      <th>9</th>\n",
       "      <td>13</td>\n",
       "      <td>1.93</td>\n",
       "    </tr>\n",
       "    <tr>\n",
       "      <th>10</th>\n",
       "      <td>14</td>\n",
       "      <td>1.83</td>\n",
       "    </tr>\n",
       "  </tbody>\n",
       "</table>\n",
       "</div>"
      ],
      "text/plain": [
       "    Board Size  Steepest Ascent\n",
       "0            4             0.67\n",
       "1            5             0.41\n",
       "2            6             1.19\n",
       "3            7             1.05\n",
       "4            8             1.17\n",
       "5            9             1.42\n",
       "6           10             1.67\n",
       "7           11             1.71\n",
       "8           12             1.86\n",
       "9           13             1.93\n",
       "10          14             1.83"
      ]
     },
     "metadata": {},
     "output_type": "display_data"
    }
   ],
   "source": [
    "allTimes = pd.DataFrame({'Boards': np.array(boards), 'Steepest Ascent Mean Time (ms)': avgTimes}) \n",
    "allTimes.columns=['Board Size','Steepest Ascent']\n",
    "allTimes.style.set_caption(\"Average Times in milliseconds\")\n",
    "allObjs = pd.DataFrame({'Boards': np.array(boards), 'Steepest Ascent Mean Time (ms)': avgObj}) \n",
    "allObjs.columns=['Board Size','Steepest Ascent']\n",
    "display(allTimes)\n",
    "display(allObjs)\n"
   ]
  },
  {
   "cell_type": "code",
   "execution_count": 120,
   "metadata": {},
   "outputs": [],
   "source": [
    "n = 100\n",
    "total = 0\n",
    "boards = [4,5,6,7,8,9,10,11,12,13,14]\n",
    "avgObj = []\n",
    "avgTimes = []\n",
    "\n",
    "for b in boards:\n",
    "    obj = []\n",
    "    times = []\n",
    "    for j in range(n):\n",
    "        randomB = random_board(b)\n",
    "        start = time.time()\n",
    "        solve = Stochastic_Climb(randomB)\n",
    "        stop = time.time()\n",
    "        obj.append(conflicts(solve))\n",
    "        times.append((stop-start)*1e3)\n",
    "   \n",
    "    avgObj.append(np.average(obj))\n",
    "    avgTimes.append(np.average(times)) \n",
    "    "
   ]
  },
  {
   "cell_type": "code",
   "execution_count": 121,
   "metadata": {},
   "outputs": [],
   "source": [
    "allTimes['Stochastic Climb'] = avgTimes\n",
    "allObjs['Stochastic Climb'] = avgObj"
   ]
  },
  {
   "cell_type": "code",
   "execution_count": 131,
   "metadata": {},
   "outputs": [],
   "source": [
    "n = 20\n",
    "total = 0\n",
    "boards = [4,5,6,7,8,9,10,11,12,13,14]\n",
    "avgObj = []\n",
    "avgTimes = []\n",
    "\n",
    "for b in boards:\n",
    "    obj = []\n",
    "    times = []\n",
    "    for j in range(n):\n",
    "        randomB = random_board(b)\n",
    "        start = time.time()\n",
    "        solve = First_Choice_Climb(randomB)\n",
    "        stop = time.time()\n",
    "        obj.append(conflicts(solve))\n",
    "        times.append((stop-start)*1e3)\n",
    "   \n",
    "    avgObj.append(np.average(obj))\n",
    "    avgTimes.append(np.average(times)) \n",
    "    "
   ]
  },
  {
   "cell_type": "code",
   "execution_count": 132,
   "metadata": {},
   "outputs": [],
   "source": [
    "allTimes['First Choice Climb'] = avgTimes\n",
    "allObjs['First Choice Climb'] = avgObj"
   ]
  },
  {
   "cell_type": "code",
   "execution_count": 133,
   "metadata": {},
   "outputs": [
    {
     "data": {
      "text/html": [
       "<div>\n",
       "<style scoped>\n",
       "    .dataframe tbody tr th:only-of-type {\n",
       "        vertical-align: middle;\n",
       "    }\n",
       "\n",
       "    .dataframe tbody tr th {\n",
       "        vertical-align: top;\n",
       "    }\n",
       "\n",
       "    .dataframe thead th {\n",
       "        text-align: right;\n",
       "    }\n",
       "</style>\n",
       "<table border=\"1\" class=\"dataframe\">\n",
       "  <thead>\n",
       "    <tr style=\"text-align: right;\">\n",
       "      <th></th>\n",
       "      <th>Board Size</th>\n",
       "      <th>Steepest Ascent</th>\n",
       "      <th>Stochastic Climb</th>\n",
       "      <th>First Choice Climb</th>\n",
       "    </tr>\n",
       "  </thead>\n",
       "  <tbody>\n",
       "    <tr>\n",
       "      <th>0</th>\n",
       "      <td>4</td>\n",
       "      <td>0.729740</td>\n",
       "      <td>1.100531</td>\n",
       "      <td>18.498039</td>\n",
       "    </tr>\n",
       "    <tr>\n",
       "      <th>1</th>\n",
       "      <td>5</td>\n",
       "      <td>0.830665</td>\n",
       "      <td>1.521239</td>\n",
       "      <td>24.216807</td>\n",
       "    </tr>\n",
       "    <tr>\n",
       "      <th>2</th>\n",
       "      <td>6</td>\n",
       "      <td>1.779559</td>\n",
       "      <td>3.055844</td>\n",
       "      <td>107.686627</td>\n",
       "    </tr>\n",
       "    <tr>\n",
       "      <th>3</th>\n",
       "      <td>7</td>\n",
       "      <td>2.819104</td>\n",
       "      <td>5.319533</td>\n",
       "      <td>191.638696</td>\n",
       "    </tr>\n",
       "    <tr>\n",
       "      <th>4</th>\n",
       "      <td>8</td>\n",
       "      <td>5.310254</td>\n",
       "      <td>9.688857</td>\n",
       "      <td>346.095526</td>\n",
       "    </tr>\n",
       "    <tr>\n",
       "      <th>5</th>\n",
       "      <td>9</td>\n",
       "      <td>8.276548</td>\n",
       "      <td>16.508839</td>\n",
       "      <td>596.873093</td>\n",
       "    </tr>\n",
       "    <tr>\n",
       "      <th>6</th>\n",
       "      <td>10</td>\n",
       "      <td>10.055363</td>\n",
       "      <td>15.832586</td>\n",
       "      <td>926.345766</td>\n",
       "    </tr>\n",
       "    <tr>\n",
       "      <th>7</th>\n",
       "      <td>11</td>\n",
       "      <td>14.002213</td>\n",
       "      <td>31.875250</td>\n",
       "      <td>1511.276150</td>\n",
       "    </tr>\n",
       "    <tr>\n",
       "      <th>8</th>\n",
       "      <td>12</td>\n",
       "      <td>19.234533</td>\n",
       "      <td>45.747664</td>\n",
       "      <td>2101.464391</td>\n",
       "    </tr>\n",
       "    <tr>\n",
       "      <th>9</th>\n",
       "      <td>13</td>\n",
       "      <td>28.222857</td>\n",
       "      <td>55.526776</td>\n",
       "      <td>2947.897685</td>\n",
       "    </tr>\n",
       "    <tr>\n",
       "      <th>10</th>\n",
       "      <td>14</td>\n",
       "      <td>36.407015</td>\n",
       "      <td>80.699313</td>\n",
       "      <td>4165.503931</td>\n",
       "    </tr>\n",
       "  </tbody>\n",
       "</table>\n",
       "</div>"
      ],
      "text/plain": [
       "    Board Size  Steepest Ascent  Stochastic Climb  First Choice Climb\n",
       "0            4         0.729740          1.100531           18.498039\n",
       "1            5         0.830665          1.521239           24.216807\n",
       "2            6         1.779559          3.055844          107.686627\n",
       "3            7         2.819104          5.319533          191.638696\n",
       "4            8         5.310254          9.688857          346.095526\n",
       "5            9         8.276548         16.508839          596.873093\n",
       "6           10        10.055363         15.832586          926.345766\n",
       "7           11        14.002213         31.875250         1511.276150\n",
       "8           12        19.234533         45.747664         2101.464391\n",
       "9           13        28.222857         55.526776         2947.897685\n",
       "10          14        36.407015         80.699313         4165.503931"
      ]
     },
     "metadata": {},
     "output_type": "display_data"
    },
    {
     "data": {
      "text/html": [
       "<div>\n",
       "<style scoped>\n",
       "    .dataframe tbody tr th:only-of-type {\n",
       "        vertical-align: middle;\n",
       "    }\n",
       "\n",
       "    .dataframe tbody tr th {\n",
       "        vertical-align: top;\n",
       "    }\n",
       "\n",
       "    .dataframe thead th {\n",
       "        text-align: right;\n",
       "    }\n",
       "</style>\n",
       "<table border=\"1\" class=\"dataframe\">\n",
       "  <thead>\n",
       "    <tr style=\"text-align: right;\">\n",
       "      <th></th>\n",
       "      <th>Board Size</th>\n",
       "      <th>Steepest Ascent</th>\n",
       "      <th>Stochastic Climb</th>\n",
       "      <th>First Choice Climb</th>\n",
       "    </tr>\n",
       "  </thead>\n",
       "  <tbody>\n",
       "    <tr>\n",
       "      <th>0</th>\n",
       "      <td>4</td>\n",
       "      <td>0.67</td>\n",
       "      <td>0.87</td>\n",
       "      <td>0.90</td>\n",
       "    </tr>\n",
       "    <tr>\n",
       "      <th>1</th>\n",
       "      <td>5</td>\n",
       "      <td>0.41</td>\n",
       "      <td>0.59</td>\n",
       "      <td>0.60</td>\n",
       "    </tr>\n",
       "    <tr>\n",
       "      <th>2</th>\n",
       "      <td>6</td>\n",
       "      <td>1.19</td>\n",
       "      <td>1.06</td>\n",
       "      <td>1.40</td>\n",
       "    </tr>\n",
       "    <tr>\n",
       "      <th>3</th>\n",
       "      <td>7</td>\n",
       "      <td>1.05</td>\n",
       "      <td>1.24</td>\n",
       "      <td>1.25</td>\n",
       "    </tr>\n",
       "    <tr>\n",
       "      <th>4</th>\n",
       "      <td>8</td>\n",
       "      <td>1.17</td>\n",
       "      <td>1.44</td>\n",
       "      <td>1.40</td>\n",
       "    </tr>\n",
       "    <tr>\n",
       "      <th>5</th>\n",
       "      <td>9</td>\n",
       "      <td>1.42</td>\n",
       "      <td>1.43</td>\n",
       "      <td>1.55</td>\n",
       "    </tr>\n",
       "    <tr>\n",
       "      <th>6</th>\n",
       "      <td>10</td>\n",
       "      <td>1.67</td>\n",
       "      <td>1.60</td>\n",
       "      <td>1.35</td>\n",
       "    </tr>\n",
       "    <tr>\n",
       "      <th>7</th>\n",
       "      <td>11</td>\n",
       "      <td>1.71</td>\n",
       "      <td>1.79</td>\n",
       "      <td>1.75</td>\n",
       "    </tr>\n",
       "    <tr>\n",
       "      <th>8</th>\n",
       "      <td>12</td>\n",
       "      <td>1.86</td>\n",
       "      <td>1.97</td>\n",
       "      <td>1.65</td>\n",
       "    </tr>\n",
       "    <tr>\n",
       "      <th>9</th>\n",
       "      <td>13</td>\n",
       "      <td>1.93</td>\n",
       "      <td>1.89</td>\n",
       "      <td>2.10</td>\n",
       "    </tr>\n",
       "    <tr>\n",
       "      <th>10</th>\n",
       "      <td>14</td>\n",
       "      <td>1.83</td>\n",
       "      <td>1.85</td>\n",
       "      <td>1.70</td>\n",
       "    </tr>\n",
       "  </tbody>\n",
       "</table>\n",
       "</div>"
      ],
      "text/plain": [
       "    Board Size  Steepest Ascent  Stochastic Climb  First Choice Climb\n",
       "0            4             0.67              0.87                0.90\n",
       "1            5             0.41              0.59                0.60\n",
       "2            6             1.19              1.06                1.40\n",
       "3            7             1.05              1.24                1.25\n",
       "4            8             1.17              1.44                1.40\n",
       "5            9             1.42              1.43                1.55\n",
       "6           10             1.67              1.60                1.35\n",
       "7           11             1.71              1.79                1.75\n",
       "8           12             1.86              1.97                1.65\n",
       "9           13             1.93              1.89                2.10\n",
       "10          14             1.83              1.85                1.70"
      ]
     },
     "metadata": {},
     "output_type": "display_data"
    }
   ],
   "source": [
    "display(allTimes)\n",
    "display(allObjs)"
   ]
  },
  {
   "cell_type": "markdown",
   "metadata": {},
   "source": [
    "### Task 5 Response Pt. 1\n",
    "\n",
    "The use of the three basic solutions to solve the local search problem reached similar averages in the objective function. Suprisingly, the steepest ascent model kept a relatively comparable objective value while not reaching nearly as long of a duration in time required to return a solution. It is clear to see that the First Choice Climb grows exponentially in the amount of time required to reach a solution. The reason for this time is due to the optimal solution (optimum = 0) not being reached often by the algorithm. The lack of actual optimum's found among the algorithms illustrates the limitations of local searches as local mimimums are difficult to escape. \n",
    "***Note: First Choice only run 20 times instead of 100 like the others due to time complexity for each run for First Choice Climb compared to other methods*** "
   ]
  },
  {
   "cell_type": "code",
   "execution_count": 136,
   "metadata": {},
   "outputs": [],
   "source": [
    "n = 100\n",
    "total = 0\n",
    "boards = [4,5,6,7,8,9,10,11,12,13,14]\n",
    "avgObj = []\n",
    "avgTimes = []\n",
    "\n",
    "for b in boards:\n",
    "    obj = []\n",
    "    times = []\n",
    "    for j in range(n):\n",
    "        randomB = random_board(b)\n",
    "        start = time.time()\n",
    "        solve = random_restart(Steepest_Ascent, b, iterations = 30)\n",
    "        stop = time.time()\n",
    "        obj.append(conflicts(solve))\n",
    "        times.append((stop-start)*1e3)\n",
    "   \n",
    "    avgObj.append(np.average(obj))\n",
    "    avgTimes.append(np.average(times)) \n",
    "    "
   ]
  },
  {
   "cell_type": "code",
   "execution_count": 137,
   "metadata": {},
   "outputs": [],
   "source": [
    "allTimes['Restart Steep'] = avgTimes\n",
    "allObjs['Restart Steep'] = avgObj"
   ]
  },
  {
   "cell_type": "code",
   "execution_count": 139,
   "metadata": {},
   "outputs": [],
   "source": [
    "n = 100\n",
    "total = 0\n",
    "boards = [4,5,6,7,8,9,10,11,12,13,14]\n",
    "avgObj = []\n",
    "avgTimes = []\n",
    "\n",
    "for b in boards:\n",
    "    obj = []\n",
    "    times = []\n",
    "    for j in range(n):\n",
    "        randomB = random_board(b)\n",
    "        start = time.time()\n",
    "        solve = random_restart(Stochastic_Climb, b, iterations = 30)\n",
    "        stop = time.time()\n",
    "        obj.append(conflicts(solve))\n",
    "        times.append((stop-start)*1e3)\n",
    "   \n",
    "    avgObj.append(np.average(obj))\n",
    "    avgTimes.append(np.average(times)) \n",
    "    "
   ]
  },
  {
   "cell_type": "code",
   "execution_count": 140,
   "metadata": {},
   "outputs": [],
   "source": [
    "allTimes['Restart Stochastic'] = avgTimes\n",
    "allObjs['Restart Stochastic'] = avgObj"
   ]
  },
  {
   "cell_type": "code",
   "execution_count": 142,
   "metadata": {},
   "outputs": [],
   "source": [
    "n = 20\n",
    "total = 0\n",
    "boards = [4,5,6,7,8,9,10,11,12,13,14]\n",
    "avgObj = []\n",
    "avgTimes = []\n",
    "\n",
    "for b in boards:\n",
    "    obj = []\n",
    "    times = []\n",
    "    for j in range(n):\n",
    "        randomB = random_board(b)\n",
    "        start = time.time()\n",
    "        solve = random_restart(First_Choice_Climb, b, iterations = 30)\n",
    "        stop = time.time()\n",
    "        obj.append(conflicts(solve))\n",
    "        times.append((stop-start)*1e3)\n",
    "   \n",
    "    avgObj.append(np.average(obj))\n",
    "    avgTimes.append(np.average(times)) \n",
    "    \n",
    "allTimes['Restart First Choice'] = avgTimes\n",
    "allObjs['Restart First Choice'] = avgObj"
   ]
  },
  {
   "cell_type": "code",
   "execution_count": 194,
   "metadata": {},
   "outputs": [
    {
     "name": "stdout",
     "output_type": "stream",
     "text": [
      "Average Times\n"
     ]
    },
    {
     "data": {
      "text/html": [
       "<div>\n",
       "<style scoped>\n",
       "    .dataframe tbody tr th:only-of-type {\n",
       "        vertical-align: middle;\n",
       "    }\n",
       "\n",
       "    .dataframe tbody tr th {\n",
       "        vertical-align: top;\n",
       "    }\n",
       "\n",
       "    .dataframe thead th {\n",
       "        text-align: right;\n",
       "    }\n",
       "</style>\n",
       "<table border=\"1\" class=\"dataframe\">\n",
       "  <thead>\n",
       "    <tr style=\"text-align: right;\">\n",
       "      <th></th>\n",
       "      <th>Board Size</th>\n",
       "      <th>Steepest Ascent</th>\n",
       "      <th>Stochastic Climb</th>\n",
       "      <th>First Choice Climb</th>\n",
       "      <th>Restart Steep</th>\n",
       "      <th>Restart Stochastic</th>\n",
       "      <th>Restart First Choice</th>\n",
       "    </tr>\n",
       "  </thead>\n",
       "  <tbody>\n",
       "    <tr>\n",
       "      <th>0</th>\n",
       "      <td>4</td>\n",
       "      <td>0.729740</td>\n",
       "      <td>1.100531</td>\n",
       "      <td>18.498039</td>\n",
       "      <td>0.930421</td>\n",
       "      <td>1.415606</td>\n",
       "      <td>78.031802</td>\n",
       "    </tr>\n",
       "    <tr>\n",
       "      <th>1</th>\n",
       "      <td>5</td>\n",
       "      <td>0.830665</td>\n",
       "      <td>1.521239</td>\n",
       "      <td>24.216807</td>\n",
       "      <td>0.795715</td>\n",
       "      <td>0.937881</td>\n",
       "      <td>26.429665</td>\n",
       "    </tr>\n",
       "    <tr>\n",
       "      <th>2</th>\n",
       "      <td>6</td>\n",
       "      <td>1.779559</td>\n",
       "      <td>3.055844</td>\n",
       "      <td>107.686627</td>\n",
       "      <td>11.837087</td>\n",
       "      <td>15.438530</td>\n",
       "      <td>988.724005</td>\n",
       "    </tr>\n",
       "    <tr>\n",
       "      <th>3</th>\n",
       "      <td>7</td>\n",
       "      <td>2.819104</td>\n",
       "      <td>5.319533</td>\n",
       "      <td>191.638696</td>\n",
       "      <td>6.217752</td>\n",
       "      <td>12.417424</td>\n",
       "      <td>744.615090</td>\n",
       "    </tr>\n",
       "    <tr>\n",
       "      <th>4</th>\n",
       "      <td>8</td>\n",
       "      <td>5.310254</td>\n",
       "      <td>9.688857</td>\n",
       "      <td>346.095526</td>\n",
       "      <td>22.187526</td>\n",
       "      <td>33.437870</td>\n",
       "      <td>2827.861214</td>\n",
       "    </tr>\n",
       "    <tr>\n",
       "      <th>5</th>\n",
       "      <td>9</td>\n",
       "      <td>8.276548</td>\n",
       "      <td>16.508839</td>\n",
       "      <td>596.873093</td>\n",
       "      <td>37.031188</td>\n",
       "      <td>51.718783</td>\n",
       "      <td>4074.050510</td>\n",
       "    </tr>\n",
       "    <tr>\n",
       "      <th>6</th>\n",
       "      <td>10</td>\n",
       "      <td>10.055363</td>\n",
       "      <td>15.832586</td>\n",
       "      <td>926.345766</td>\n",
       "      <td>116.249964</td>\n",
       "      <td>187.013621</td>\n",
       "      <td>10154.552758</td>\n",
       "    </tr>\n",
       "    <tr>\n",
       "      <th>7</th>\n",
       "      <td>11</td>\n",
       "      <td>14.002213</td>\n",
       "      <td>31.875250</td>\n",
       "      <td>1511.276150</td>\n",
       "      <td>192.656391</td>\n",
       "      <td>287.313981</td>\n",
       "      <td>31177.074564</td>\n",
       "    </tr>\n",
       "    <tr>\n",
       "      <th>8</th>\n",
       "      <td>12</td>\n",
       "      <td>19.234533</td>\n",
       "      <td>45.747664</td>\n",
       "      <td>2101.464391</td>\n",
       "      <td>278.750017</td>\n",
       "      <td>426.701028</td>\n",
       "      <td>36555.515468</td>\n",
       "    </tr>\n",
       "    <tr>\n",
       "      <th>9</th>\n",
       "      <td>13</td>\n",
       "      <td>28.222857</td>\n",
       "      <td>55.526776</td>\n",
       "      <td>2947.897685</td>\n",
       "      <td>378.293746</td>\n",
       "      <td>582.332900</td>\n",
       "      <td>59663.497758</td>\n",
       "    </tr>\n",
       "    <tr>\n",
       "      <th>10</th>\n",
       "      <td>14</td>\n",
       "      <td>36.407015</td>\n",
       "      <td>80.699313</td>\n",
       "      <td>4165.503931</td>\n",
       "      <td>575.287809</td>\n",
       "      <td>857.565200</td>\n",
       "      <td>102032.699192</td>\n",
       "    </tr>\n",
       "  </tbody>\n",
       "</table>\n",
       "</div>"
      ],
      "text/plain": [
       "    Board Size  Steepest Ascent  Stochastic Climb  First Choice Climb  \\\n",
       "0            4         0.729740          1.100531           18.498039   \n",
       "1            5         0.830665          1.521239           24.216807   \n",
       "2            6         1.779559          3.055844          107.686627   \n",
       "3            7         2.819104          5.319533          191.638696   \n",
       "4            8         5.310254          9.688857          346.095526   \n",
       "5            9         8.276548         16.508839          596.873093   \n",
       "6           10        10.055363         15.832586          926.345766   \n",
       "7           11        14.002213         31.875250         1511.276150   \n",
       "8           12        19.234533         45.747664         2101.464391   \n",
       "9           13        28.222857         55.526776         2947.897685   \n",
       "10          14        36.407015         80.699313         4165.503931   \n",
       "\n",
       "    Restart Steep  Restart Stochastic  Restart First Choice  \n",
       "0        0.930421            1.415606             78.031802  \n",
       "1        0.795715            0.937881             26.429665  \n",
       "2       11.837087           15.438530            988.724005  \n",
       "3        6.217752           12.417424            744.615090  \n",
       "4       22.187526           33.437870           2827.861214  \n",
       "5       37.031188           51.718783           4074.050510  \n",
       "6      116.249964          187.013621          10154.552758  \n",
       "7      192.656391          287.313981          31177.074564  \n",
       "8      278.750017          426.701028          36555.515468  \n",
       "9      378.293746          582.332900          59663.497758  \n",
       "10     575.287809          857.565200         102032.699192  "
      ]
     },
     "metadata": {},
     "output_type": "display_data"
    }
   ],
   "source": [
    "print(\"Average Times\")\n",
    "display(allTimes)\n"
   ]
  },
  {
   "cell_type": "code",
   "execution_count": 195,
   "metadata": {},
   "outputs": [
    {
     "name": "stdout",
     "output_type": "stream",
     "text": [
      "Average Objective Values\n"
     ]
    },
    {
     "data": {
      "text/html": [
       "<div>\n",
       "<style scoped>\n",
       "    .dataframe tbody tr th:only-of-type {\n",
       "        vertical-align: middle;\n",
       "    }\n",
       "\n",
       "    .dataframe tbody tr th {\n",
       "        vertical-align: top;\n",
       "    }\n",
       "\n",
       "    .dataframe thead th {\n",
       "        text-align: right;\n",
       "    }\n",
       "</style>\n",
       "<table border=\"1\" class=\"dataframe\">\n",
       "  <thead>\n",
       "    <tr style=\"text-align: right;\">\n",
       "      <th></th>\n",
       "      <th>Board Size</th>\n",
       "      <th>Steepest Ascent</th>\n",
       "      <th>Stochastic Climb</th>\n",
       "      <th>First Choice Climb</th>\n",
       "      <th>Restart Steep</th>\n",
       "      <th>Restart Stochastic</th>\n",
       "      <th>Restart First Choice</th>\n",
       "    </tr>\n",
       "  </thead>\n",
       "  <tbody>\n",
       "    <tr>\n",
       "      <th>0</th>\n",
       "      <td>4</td>\n",
       "      <td>0.67</td>\n",
       "      <td>0.87</td>\n",
       "      <td>0.90</td>\n",
       "      <td>0.00</td>\n",
       "      <td>0.00</td>\n",
       "      <td>0.00</td>\n",
       "    </tr>\n",
       "    <tr>\n",
       "      <th>1</th>\n",
       "      <td>5</td>\n",
       "      <td>0.41</td>\n",
       "      <td>0.59</td>\n",
       "      <td>0.60</td>\n",
       "      <td>0.00</td>\n",
       "      <td>0.00</td>\n",
       "      <td>0.00</td>\n",
       "    </tr>\n",
       "    <tr>\n",
       "      <th>2</th>\n",
       "      <td>6</td>\n",
       "      <td>1.19</td>\n",
       "      <td>1.06</td>\n",
       "      <td>1.40</td>\n",
       "      <td>0.03</td>\n",
       "      <td>0.04</td>\n",
       "      <td>0.00</td>\n",
       "    </tr>\n",
       "    <tr>\n",
       "      <th>3</th>\n",
       "      <td>7</td>\n",
       "      <td>1.05</td>\n",
       "      <td>1.24</td>\n",
       "      <td>1.25</td>\n",
       "      <td>0.00</td>\n",
       "      <td>0.00</td>\n",
       "      <td>0.00</td>\n",
       "    </tr>\n",
       "    <tr>\n",
       "      <th>4</th>\n",
       "      <td>8</td>\n",
       "      <td>1.17</td>\n",
       "      <td>1.44</td>\n",
       "      <td>1.40</td>\n",
       "      <td>0.01</td>\n",
       "      <td>0.01</td>\n",
       "      <td>0.00</td>\n",
       "    </tr>\n",
       "    <tr>\n",
       "      <th>5</th>\n",
       "      <td>9</td>\n",
       "      <td>1.42</td>\n",
       "      <td>1.43</td>\n",
       "      <td>1.55</td>\n",
       "      <td>0.02</td>\n",
       "      <td>0.00</td>\n",
       "      <td>0.00</td>\n",
       "    </tr>\n",
       "    <tr>\n",
       "      <th>6</th>\n",
       "      <td>10</td>\n",
       "      <td>1.67</td>\n",
       "      <td>1.60</td>\n",
       "      <td>1.35</td>\n",
       "      <td>0.20</td>\n",
       "      <td>0.13</td>\n",
       "      <td>0.00</td>\n",
       "    </tr>\n",
       "    <tr>\n",
       "      <th>7</th>\n",
       "      <td>11</td>\n",
       "      <td>1.71</td>\n",
       "      <td>1.79</td>\n",
       "      <td>1.75</td>\n",
       "      <td>0.32</td>\n",
       "      <td>0.20</td>\n",
       "      <td>0.50</td>\n",
       "    </tr>\n",
       "    <tr>\n",
       "      <th>8</th>\n",
       "      <td>12</td>\n",
       "      <td>1.86</td>\n",
       "      <td>1.97</td>\n",
       "      <td>1.65</td>\n",
       "      <td>0.25</td>\n",
       "      <td>0.28</td>\n",
       "      <td>0.25</td>\n",
       "    </tr>\n",
       "    <tr>\n",
       "      <th>9</th>\n",
       "      <td>13</td>\n",
       "      <td>1.93</td>\n",
       "      <td>1.89</td>\n",
       "      <td>2.10</td>\n",
       "      <td>0.25</td>\n",
       "      <td>0.28</td>\n",
       "      <td>0.40</td>\n",
       "    </tr>\n",
       "    <tr>\n",
       "      <th>10</th>\n",
       "      <td>14</td>\n",
       "      <td>1.83</td>\n",
       "      <td>1.85</td>\n",
       "      <td>1.70</td>\n",
       "      <td>0.37</td>\n",
       "      <td>0.39</td>\n",
       "      <td>0.55</td>\n",
       "    </tr>\n",
       "  </tbody>\n",
       "</table>\n",
       "</div>"
      ],
      "text/plain": [
       "    Board Size  Steepest Ascent  Stochastic Climb  First Choice Climb  \\\n",
       "0            4             0.67              0.87                0.90   \n",
       "1            5             0.41              0.59                0.60   \n",
       "2            6             1.19              1.06                1.40   \n",
       "3            7             1.05              1.24                1.25   \n",
       "4            8             1.17              1.44                1.40   \n",
       "5            9             1.42              1.43                1.55   \n",
       "6           10             1.67              1.60                1.35   \n",
       "7           11             1.71              1.79                1.75   \n",
       "8           12             1.86              1.97                1.65   \n",
       "9           13             1.93              1.89                2.10   \n",
       "10          14             1.83              1.85                1.70   \n",
       "\n",
       "    Restart Steep  Restart Stochastic  Restart First Choice  \n",
       "0            0.00                0.00                  0.00  \n",
       "1            0.00                0.00                  0.00  \n",
       "2            0.03                0.04                  0.00  \n",
       "3            0.00                0.00                  0.00  \n",
       "4            0.01                0.01                  0.00  \n",
       "5            0.02                0.00                  0.00  \n",
       "6            0.20                0.13                  0.00  \n",
       "7            0.32                0.20                  0.50  \n",
       "8            0.25                0.28                  0.25  \n",
       "9            0.25                0.28                  0.40  \n",
       "10           0.37                0.39                  0.55  "
      ]
     },
     "metadata": {},
     "output_type": "display_data"
    }
   ],
   "source": [
    "print(\"Average Objective Values\")\n",
    "display(allObjs)"
   ]
  },
  {
   "cell_type": "code",
   "execution_count": 192,
   "metadata": {},
   "outputs": [
    {
     "data": {
      "image/png": "[encoded data removed]",
      "text/plain": [
       "<Figure size 720x288 with 1 Axes>"
      ]
     },
     "metadata": {
      "needs_background": "light"
     },
     "output_type": "display_data"
    },
    {
     "data": {
      "image/png": "[encoded data removed]",
      "text/plain": [
       "<Figure size 720x432 with 1 Axes>"
      ]
     },
     "metadata": {
      "needs_background": "light"
     },
     "output_type": "display_data"
    }
   ],
   "source": [
    "import matplotlib.pyplot as plt\n",
    "\n",
    "plt.plot(allTimes[\"Board Size\"], allTimes[\"Steepest Ascent\"], label = \"Steepest Ascent\")\n",
    "plt.plot(allTimes[\"Board Size\"], allTimes[\"Stochastic Climb\"], label = \"Stochastic Climb\")\n",
    "plt.plot(allTimes[\"Board Size\"], allTimes[\"First Choice Climb\"], label = \"First Choice Climb\")\n",
    "plt.plot(allTimes[\"Board Size\"], allTimes[\"Restart Steep\"], label = \"Restart Steepest Ascent\")\n",
    "plt.plot(allTimes[\"Board Size\"], allTimes[\"Restart Stochastic\"], label = \"Restart Stochastic Ascent\")\n",
    "plt.rcParams[\"figure.figsize\"] = (10,6)\n",
    "plt.title(\"Mean Time Duration For Local Search\")\n",
    "plt.xlabel(\"Board Size n\")\n",
    "plt.ylabel(\"Mean Time (ms)\")\n",
    "plt.legend()\n",
    "plt.show()\n",
    "\n",
    "plt.plot(allTimes[\"Board Size\"], allTimes[\"First Choice Climb\"], label = \"First Choice Climb\")\n",
    "plt.plot(allTimes[\"Board Size\"], allTimes[\"Restart First Choice\"], label = \"Restart First Choice\")\n",
    "plt.rcParams[\"figure.figsize\"] = (10,4)\n",
    "plt.title(\"Mean Time Duration For Local Search\")\n",
    "plt.xlabel(\"Board Size n\")\n",
    "plt.ylabel(\"Mean Time (ms)\")\n",
    "plt.legend()\n",
    "plt.show()"
   ]
  },
  {
   "cell_type": "markdown",
   "metadata": {},
   "source": [
    "### Time analysis\n",
    "\n",
    "When assessing the time complexity of each of the local search methods graphically, it appears that the standard stochastic and steeepest ascent algorithms grow significantly smaller thanthe other algorithms. Even when considering the random restart variations of the searches, the First Choice Climb is still the worst performing when measuring performance solely on time. The random restarts, while increasing the growth of the time required by the algorithm in all searches as the board size increases, didn't have much weight on the smaller board sizes and would be the preferred method of solving the problem for these small boards. The use of restarts with the sow first choice solving algorithm is the least practical as the original method already grew in time exponentially. The use of restarts with this method increases that growth rate and is significantly higher than the orginal function once the board reaches n=8."
   ]
  },
  {
   "cell_type": "code",
   "execution_count": 173,
   "metadata": {},
   "outputs": [
    {
     "data": {
      "image/png": "[encoded data removed]",
      "text/plain": [
       "<Figure size 720x432 with 1 Axes>"
      ]
     },
     "metadata": {
      "needs_background": "light"
     },
     "output_type": "display_data"
    }
   ],
   "source": [
    "plt.plot(allObjs[\"Board Size\"], allObjs[\"Steepest Ascent\"], label = \"Steepest Ascent\")\n",
    "plt.plot(allObjs[\"Board Size\"], allObjs[\"Stochastic Climb\"], label = \"Stochastic Climb\")\n",
    "plt.plot(allObjs[\"Board Size\"], allObjs[\"First Choice Climb\"], label = \"First Choice Climb\")\n",
    "plt.plot(allObjs[\"Board Size\"], allObjs[\"Restart Steep\"], label = \"Restart Steepest Ascent\")\n",
    "plt.plot(allObjs[\"Board Size\"], allObjs[\"Restart Stochastic\"], label = \"Restart Stochastic Ascent\")\n",
    "plt.plot(allObjs[\"Board Size\"], allObjs[\"Restart First Choice\"], label = \"Restart First Choice\")\n",
    "plt.rcParams[\"figure.figsize\"] = (10,6)\n",
    "plt.title(\"Mean Objective For Local Search Found\")\n",
    "plt.xlabel(\"Board Size n\")\n",
    "plt.ylabel(\"Mean Objective Value\")\n",
    "plt.legend(loc=2)\n",
    "plt.show()"
   ]
  },
  {
   "cell_type": "markdown",
   "metadata": {},
   "source": [
    "### Objective Analysis\n",
    "\n",
    "When assessing the overall solutions, it is evident that the use of random restarts imporves the ability for the algorithm to find the optimal solution as the averages for all restarting methods are below the averages of the original functions for all size boards. In addition, on average the original functions would not find the actual solution to the n-queens problem for any size board while the random restart functions would find the optimal solution on average up until the board size increased to 9x9 boards. It is also interesting to note that for this problem the two subgrups were coherent amognst them selves and didn't have much spread in the solutions to the problem posed."
   ]
  },
  {
   "cell_type": "markdown",
   "metadata": {},
   "source": [
    "### Each Boards Case\n",
    "\n",
    "According to the data, the Steepest Ascent and Stochastic Climb do not have heavy restrictions on time duration when measuring performance as even the largest board can be solved in reasonable time. However, the optimal solution is only likely to be found when the board is of size 5x5 or less when considering reaching the ideal goal state. This same logic can be applied to the normal First Choice climb, but the exponential growth in time duration makes it impractical to use to find any local minimum once the board is of size 9x9 or larger.\n",
    "\n",
    "The random restart functions can all reliably find the ideal goal state for all sizes 9x9 or less and is likely to find the goal state for all board sizes up to 14x14. The same time complexity issue arrises for the Random Restart First Choice Climb as the implementation becomes impractical around a 6x6 board as the time taken grows significantly. The other two random restarts continue to be practical for all board sizes but the trend line indicates that around 16x16 boards the use of these algorithms become less practical, but can be smaller if the number of restarts is reduced/"
   ]
  },
  {
   "cell_type": "markdown",
   "metadata": {},
   "source": [
    "### Conclusion\n",
    "\n",
    "Due to the information provided by the charts above, when considering my versions of each algorithms implementations, the preferred method of solving the n-queens problem would be Steepest Ascent with random restarts as this method minimizes the objective function the best in the quickest amount of time. Not far behind would be the random restart with stochastic random climbing as this method achieves similar results with only minor differences in time duration. First choice and first choice with restarts would be the worst options as they do not perform any better than the other methods while taking significantly more time to complete."
   ]
  },
  {
   "cell_type": "markdown",
   "metadata": {},
   "source": [
    "## Graduate student advanced task: Simulated Annealing [10 Points]\n",
    "\n",
    "__Undergraduate students:__ This is a bonus task you can attempt if you like [+5 Bonus Points].\n",
    "\n",
    "Simulated annealing is a form of stochastic hill climbing that avoid local optima by also allowing downhill moves with a probability proportional to a temperature. The temperature is decreased in every iteration following an annealing schedule. You have to experiment with the annealing schedule (Google to find guidance on this).\n",
    "\n",
    "\n",
    "1. Implement simulated annealing for the n-Queens problem.\n",
    "2. Compare the performance with the previous algorithms. \n",
    "2. Discuss your choice of annealing schedule."
   ]
  },
  {
   "cell_type": "code",
   "execution_count": 174,
   "metadata": {},
   "outputs": [],
   "source": [
    "def Schedule(step):\n",
    "    if step < 50: return 100\n",
    "    if step < 100: return 50\n",
    "    if step < 200: return 20\n",
    "    if step < 500: return 10\n",
    "    return 1"
   ]
  },
  {
   "cell_type": "markdown",
   "metadata": {},
   "source": [
    "### Schedule Description\n",
    "\n",
    "It was decided to use a simple if condition system to determine the probability of choosing a downhill step. This was used to allow a high chance of making bad steps very early in the solution process but drops this probability quickly as to avoid significantly long duration times. In addition, I wanted to prevent bad steps from being taken once we are 10% though the max number of steps to be taken. While it may be preffered to allow worse steps to continue being taken, I wanted to ensure that the time complexity wouldn't be impractical for use to solve similar problems."
   ]
  },
  {
   "cell_type": "code",
   "execution_count": 177,
   "metadata": {},
   "outputs": [],
   "source": [
    "import math\n",
    "def Simulated_Annealing(board, max_steps = 5000, verbose = False):\n",
    "    if verbose: \n",
    "        show_board(board)\n",
    "    \n",
    "    n = len(board)\n",
    "    optimum = conflicts(board)\n",
    "    conflictValues = np.full([n,n], -1, dtype = int) #set initial grid to -1\n",
    "    steps = 0\n",
    "    non_moves = 0 #count of moves that are not taken\n",
    "    limit = 50*n #number of non-moves allowed in a row\n",
    "    \n",
    "    while steps < max_steps:\n",
    "        if(optimum == 0): \n",
    "            if verbose: print(\"Steps: %d\" % (steps))\n",
    "            return board\n",
    "        \n",
    "        for y in range(n):\n",
    "            queen = board[y] #get original queen location in column\n",
    "            for x in range(n):\n",
    "                board[y] = x\n",
    "                conflictValues[x,y] = conflicts(board)\n",
    "            board[y] = queen\n",
    "            \n",
    "        a = np.random.randint(0,n)\n",
    "        b = np.random.randint(0,n)\n",
    "        curr_min = conflictValues[a][b]\n",
    "                    \n",
    "        steps += 1\n",
    "        \n",
    "        probability = math.e ** ((optimum - curr_min)/Schedule(steps))\n",
    "        \n",
    "            \n",
    "        if(optimum > curr_min or np.random.randint(100) < probability):\n",
    "            if verbose:\n",
    "                print(f\"Conflicts Before: {optimum}\")\n",
    "                print(f\"Conflicts Now: {curr_min}\")\n",
    "            \n",
    "            non_moves = 0\n",
    "            w = np.where(conflictValues == curr_min)\n",
    "            optimum = [a for a in zip(w[0], w[1])] #Create Tuples of solution coordinates\n",
    "            optimum = optimum[np.random.randint(0, len(optimum))]\n",
    "            board[optimum[1]] = optimum[0]\n",
    "            optimum = curr_min\n",
    "            if verbose:\n",
    "                  show_board(board)\n",
    "            \n",
    "        else:\n",
    "            non_moves = non_moves+1\n",
    "            if non_moves > limit: \n",
    "                break\n",
    "            \n",
    "    if(verbose):    \n",
    "        print(\"Steps: %d\" % (steps))      \n",
    "    return board"
   ]
  },
  {
   "cell_type": "code",
   "execution_count": 178,
   "metadata": {},
   "outputs": [
    {
     "name": "stdout",
     "output_type": "stream",
     "text": [
      "Board with 5 conflicts.\n"
     ]
    },
    {
     "data": {
      "image/png": "[encoded data removed]",
      "text/plain": [
       "<Figure size 720x432 with 1 Axes>"
      ]
     },
     "metadata": {},
     "output_type": "display_data"
    },
    {
     "name": "stdout",
     "output_type": "stream",
     "text": [
      "Conflicts Before: 5\n",
      "Conflicts Now: 4\n",
      "Board with 4 conflicts.\n"
     ]
    },
    {
     "data": {
      "image/png": "[encoded data removed]",
      "text/plain": [
       "<Figure size 720x432 with 1 Axes>"
      ]
     },
     "metadata": {},
     "output_type": "display_data"
    },
    {
     "name": "stdout",
     "output_type": "stream",
     "text": [
      "Conflicts Before: 4\n",
      "Conflicts Now: 3\n",
      "Board with 3 conflicts.\n"
     ]
    },
    {
     "data": {
      "image/png": "[encoded data removed]",
      "text/plain": [
       "<Figure size 720x432 with 1 Axes>"
      ]
     },
     "metadata": {},
     "output_type": "display_data"
    },
    {
     "name": "stdout",
     "output_type": "stream",
     "text": [
      "Conflicts Before: 3\n",
      "Conflicts Now: 2\n",
      "Board with 2 conflicts.\n"
     ]
    },
    {
     "data": {
      "image/png": "[encoded data removed]",
      "text/plain": [
       "<Figure size 720x432 with 1 Axes>"
      ]
     },
     "metadata": {},
     "output_type": "display_data"
    },
    {
     "name": "stdout",
     "output_type": "stream",
     "text": [
      "Conflicts Before: 2\n",
      "Conflicts Now: 1\n",
      "Board with 1 conflicts.\n"
     ]
    },
    {
     "data": {
      "image/png": "[encoded data removed]",
      "text/plain": [
       "<Figure size 720x432 with 1 Axes>"
      ]
     },
     "metadata": {},
     "output_type": "display_data"
    },
    {
     "name": "stdout",
     "output_type": "stream",
     "text": [
      "Conflicts Before: 1\n",
      "Conflicts Now: 1\n",
      "Board with 1 conflicts.\n"
     ]
    },
    {
     "data": {
      "image/png": "[encoded data removed]",
      "text/plain": [
       "<Figure size 720x432 with 1 Axes>"
      ]
     },
     "metadata": {},
     "output_type": "display_data"
    },
    {
     "name": "stdout",
     "output_type": "stream",
     "text": [
      "Conflicts Before: 1\n",
      "Conflicts Now: 1\n",
      "Board with 1 conflicts.\n"
     ]
    },
    {
     "data": {
      "image/png": "[encoded data removed]",
      "text/plain": [
       "<Figure size 720x432 with 1 Axes>"
      ]
     },
     "metadata": {},
     "output_type": "display_data"
    },
    {
     "name": "stdout",
     "output_type": "stream",
     "text": [
      "Steps: 353\n"
     ]
    }
   ],
   "source": [
    "board = random_board(5)\n",
    "b = Simulated_Annealing(board, verbose = True)"
   ]
  },
  {
   "cell_type": "code",
   "execution_count": 179,
   "metadata": {},
   "outputs": [],
   "source": [
    "n = 20\n",
    "total = 0\n",
    "boards = [4,5,6,7,8,9,10,11,12,13,14]\n",
    "avgObj = []\n",
    "avgTimes = []\n",
    "\n",
    "for b in boards:\n",
    "    obj = []\n",
    "    times = []\n",
    "    for j in range(n):\n",
    "        randomB = random_board(b)\n",
    "        start = time.time()\n",
    "        solve = First_Choice_Climb(randomB)\n",
    "        stop = time.time()\n",
    "        obj.append(conflicts(solve))\n",
    "        times.append((stop-start)*1e3)\n",
    "   \n",
    "    avgObj.append(np.average(obj))\n",
    "    avgTimes.append(np.average(times)) \n",
    "    "
   ]
  },
  {
   "cell_type": "code",
   "execution_count": 196,
   "metadata": {},
   "outputs": [
    {
     "data": {
      "image/png": "[encoded data removed]",
      "text/plain": [
       "<Figure size 720x288 with 1 Axes>"
      ]
     },
     "metadata": {
      "needs_background": "light"
     },
     "output_type": "display_data"
    }
   ],
   "source": [
    "plt.plot(allTimes[\"Board Size\"], allTimes[\"First Choice Climb\"], label = \"First Choice Climb\")\n",
    "plt.plot(boards, avgTimes, label= \"Simmulated Annealing\")\n",
    "plt.rcParams[\"figure.figsize\"] = (10,6)\n",
    "plt.title(\"Mean Time Duration For Local Search Found\")\n",
    "plt.xlabel(\"Board Size n\")\n",
    "plt.ylabel(\"Mean Time (ms)\")\n",
    "plt.legend(loc=2)\n",
    "plt.show()\n"
   ]
  },
  {
   "cell_type": "code",
   "execution_count": 197,
   "metadata": {},
   "outputs": [
    {
     "data": {
      "image/png": "[encoded data removed]",
      "text/plain": [
       "<Figure size 720x432 with 1 Axes>"
      ]
     },
     "metadata": {
      "needs_background": "light"
     },
     "output_type": "display_data"
    }
   ],
   "source": [
    "plt.plot(allObjs[\"Board Size\"], allObjs[\"First Choice Climb\"], label = \"First Choice Climb\")\n",
    "plt.plot(boards, avgObj, label=\"Simmulated Annealing\")\n",
    "plt.rcParams[\"figure.figsize\"] = (10,6)\n",
    "plt.title(\"Mean Minimum Objective For Local Search Found\")\n",
    "plt.xlabel(\"Board Size n\")\n",
    "plt.ylabel(\"Mean Objective Value\")\n",
    "plt.legend(loc=2)\n",
    "plt.show()"
   ]
  },
  {
   "cell_type": "markdown",
   "metadata": {},
   "source": [
    "### Graduate Response\n",
    "\n",
    "The performance of the simmulated annealing algorithm matches that of the First choice Climb algorithm, but is more likely to find a smaller objective value than its predecessor for boards smaller than 9x9. In addition, the rate at which the duration of the solve takes is smaller than that of the First Choice algorithm which means that the use of this method is more practical for larger boards than that of the former. While it is dissapointing to not see an decrease in the objective function compared to the others it illustrates that this method can slightly improve the results. Furthermore the addition of a less strict schedule or adding random restarts could significantly improve the objective function minimization, but at a large cost to time."
   ]
  },
  {
   "cell_type": "markdown",
   "metadata": {},
   "source": [
    "## More things to do\n",
    "\n",
    "Implement a Genetic Algorithm for the n-Queens problem."
   ]
  },
  {
   "cell_type": "code",
   "execution_count": 10,
   "metadata": {
    "tags": []
   },
   "outputs": [],
   "source": [
    "# Code and description go here"
   ]
  }
 ],
 "metadata": {
  "kernelspec": {
   "display_name": "Python 3",
   "language": "python",
   "name": "python3"
  },
  "language_info": {
   "codemirror_mode": {
    "name": "ipython",
    "version": 3
   },
   "file_extension": ".py",
   "mimetype": "text/x-python",
   "name": "python",
   "nbconvert_exporter": "python",
   "pygments_lexer": "ipython3",
   "version": "3.8.8"
  },
  "toc-autonumbering": false,
  "toc-showcode": false,
  "toc-showmarkdowntxt": false,
  "toc-showtags": false
 },
 "nbformat": 4,
 "nbformat_minor": 4
}
